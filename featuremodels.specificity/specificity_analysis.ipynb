{
 "cells": [
  {
   "cell_type": "markdown",
   "metadata": {},
   "source": [
    "## Libraries"
   ]
  },
  {
   "cell_type": "code",
   "execution_count": 56,
   "metadata": {},
   "outputs": [],
   "source": [
    "import pandas as pd\n",
    "import scipy.stats as stats\n",
    "import math\n",
    "import matplotlib.pyplot as plt\n",
    "import seaborn as sns"
   ]
  },
  {
   "cell_type": "markdown",
   "metadata": {},
   "source": [
    "## Load the data"
   ]
  },
  {
   "cell_type": "code",
   "execution_count": 57,
   "metadata": {},
   "outputs": [],
   "source": [
    "# Read the file resulsSPECIFICITY.csv into a pandas dataframe\n",
    "df = pd.read_csv('resultsSPECIFICITY.csv', delimiter=';')\n",
    "\n",
    "# Group the dataframe by OldFM, NewFM, Generator, and for the other columns compute the average\n",
    "df = df.groupby(['OldFM', 'NewFM', 'Generator']).mean()\n",
    "# Reset the index\n",
    "df = df.reset_index()"
   ]
  },
  {
   "cell_type": "markdown",
   "metadata": {},
   "source": [
    "## Wilcoxon-Signed Rank Tests"
   ]
  },
  {
   "cell_type": "code",
   "execution_count": 58,
   "metadata": {},
   "outputs": [],
   "source": [
    "def test(datax, datay, label):\n",
    "    test_times = stats.wilcoxon(datax, datay, alternative='two-sided', method='approx')\n",
    "    print (\"*** Test on \" + label + \" ***\")\n",
    "    print (test_times)\n",
    "    print (datax.mean())\n",
    "    print (datay.mean())\n",
    "    print (\"Effect size: \" + str(test_times.zstatistic / math.sqrt(len(datax) + len(datay))))"
   ]
  },
  {
   "cell_type": "markdown",
   "metadata": {},
   "source": [
    "### Fault detection"
   ]
  },
  {
   "cell_type": "code",
   "execution_count": 59,
   "metadata": {},
   "outputs": [
    {
     "name": "stdout",
     "output_type": "stream",
     "text": [
      "*** Test on ACTS vs SPECIFICITY ***\n",
      "WilcoxonResult(statistic=255.5, pvalue=0.6550303837743114)\n",
      "0.7405379397195122\n",
      "0.740184017792683\n",
      "Effect size: -0.034888038332672754\n",
      "*** Test on ACTS vs BDD ***\n",
      "WilcoxonResult(statistic=233.0, pvalue=0.395988932165689)\n",
      "0.7405379397195122\n",
      "0.7401843351585367\n",
      "Effect size: -0.06628065779789927\n",
      "*** Test on ACTS vs MUTTESTGENERATOR ***\n",
      "WilcoxonResult(statistic=165.5, pvalue=0.79944787008027)\n",
      "0.7405379397195122\n",
      "0.7405356341463416\n",
      "Effect size: -0.01983888790564852\n",
      "*** Test on BDD vs SPECIFICITY ***\n",
      "WilcoxonResult(statistic=172.5, pvalue=0.6916741040514165)\n",
      "0.7401843351585367\n",
      "0.740184017792683\n",
      "Effect size: -0.030968023384351964\n",
      "*** Test on BDD vs MUTTESTGENERATOR ***\n",
      "WilcoxonResult(statistic=217.0, pvalue=0.7498008074984992)\n",
      "0.7401843351585367\n",
      "0.7405356341463416\n",
      "Effect size: -0.024902064583605454\n",
      "*** Test on SPECIFICITY vs MUTTESTGENERATOR ***\n",
      "WilcoxonResult(statistic=214.0, pvalue=0.7034441550182335)\n",
      "0.740184017792683\n",
      "0.7405356341463416\n",
      "Effect size: -0.02972575146501453\n"
     ]
    }
   ],
   "source": [
    "faultDetectionACTS = df.loc[df['Generator'] == 'ACTS', 'FaultDetection'].values\n",
    "faultDetectionSPEC = df.loc[df['Generator'] == 'SPECIFICITY_FMREDUCED', 'FaultDetection'].values\n",
    "faultDetectionBDD = df.loc[df['Generator'] == 'BDD_FMREDUCED', 'FaultDetection'].values\n",
    "faultDetectionMUTTESTGENERATOR = df.loc[df['Generator'] == 'MUTTESTGENERATOR', 'FaultDetection'].values\n",
    "# Test the difference between the two generators\n",
    "test(faultDetectionACTS, faultDetectionSPEC, \"ACTS vs SPECIFICITY\")\n",
    "test(faultDetectionACTS, faultDetectionBDD, \"ACTS vs BDD\")\n",
    "test(faultDetectionACTS, faultDetectionMUTTESTGENERATOR, \"ACTS vs MUTTESTGENERATOR\")\n",
    "test(faultDetectionBDD, faultDetectionSPEC, \"BDD vs SPECIFICITY\")\n",
    "test(faultDetectionBDD, faultDetectionMUTTESTGENERATOR, \"BDD vs MUTTESTGENERATOR\")\n",
    "test(faultDetectionSPEC, faultDetectionMUTTESTGENERATOR, \"SPECIFICITY vs MUTTESTGENERATOR\")\n"
   ]
  },
  {
   "cell_type": "markdown",
   "metadata": {},
   "source": [
    "### Specificity"
   ]
  },
  {
   "cell_type": "code",
   "execution_count": 60,
   "metadata": {},
   "outputs": [
    {
     "name": "stdout",
     "output_type": "stream",
     "text": [
      "*** Test on ACTS vs SPECIFICITY ***\n",
      "WilcoxonResult(statistic=0.0, pvalue=2.7015948487105505e-05)\n",
      "0.4820944640975609\n",
      "0.5313336570365853\n",
      "Effect size: -0.32775121882711133\n",
      "*** Test on ACTS vs BDD ***\n",
      "WilcoxonResult(statistic=64.0, pvalue=0.042434174712520645)\n",
      "0.4820944640975609\n",
      "0.49907011381097566\n",
      "Effect size: -0.15845677416964024\n",
      "*** Test on ACTS vs MUTTESTGENERATOR ***\n",
      "WilcoxonResult(statistic=254.5, pvalue=0.46178950128527485)\n",
      "0.4820944640975609\n",
      "0.491289201097561\n",
      "Effect size: -0.057464399474557275\n",
      "*** Test on BDD vs SPECIFICITY ***\n",
      "WilcoxonResult(statistic=1.0, pvalue=4.612538017926031e-05)\n",
      "0.49907011381097566\n",
      "0.5313336570365853\n",
      "Effect size: -0.3181602412886653\n",
      "*** Test on BDD vs MUTTESTGENERATOR ***\n",
      "WilcoxonResult(statistic=252.0, pvalue=0.4364569912877593)\n",
      "0.49907011381097566\n",
      "0.491289201097561\n",
      "Effect size: -0.06076643252070372\n",
      "*** Test on SPECIFICITY vs MUTTESTGENERATOR ***\n",
      "WilcoxonResult(statistic=162.0, pvalue=0.020480610502785396)\n",
      "0.5313336570365853\n",
      "0.491289201097561\n",
      "Effect size: -0.18096046324676304\n"
     ]
    }
   ],
   "source": [
    "specificityACTS = df.loc[df['Generator'] == 'ACTS', 'Specificity'].values\n",
    "specificitySPEC = df.loc[df['Generator'] == 'SPECIFICITY_FMREDUCED', 'Specificity'].values\n",
    "specificityBDD = df.loc[df['Generator'] == 'BDD_FMREDUCED', 'Specificity'].values\n",
    "specificityMUTTESTGENERATOR = df.loc[df['Generator'] == 'MUTTESTGENERATOR', 'Specificity'].values\n",
    "# Test the difference between the two generators\n",
    "test(specificityACTS, specificitySPEC, \"ACTS vs SPECIFICITY\")\n",
    "test(specificityACTS, specificityBDD, \"ACTS vs BDD\")\n",
    "test(specificityACTS, specificityMUTTESTGENERATOR, \"ACTS vs MUTTESTGENERATOR\")\n",
    "test(specificityBDD, specificitySPEC, \"BDD vs SPECIFICITY\")\n",
    "test(specificityBDD, specificityMUTTESTGENERATOR, \"BDD vs MUTTESTGENERATOR\")\n",
    "test(specificitySPEC, specificityMUTTESTGENERATOR, \"SPECIFICITY vs MUTTESTGENERATOR\")"
   ]
  },
  {
   "cell_type": "code",
   "execution_count": null,
   "metadata": {},
   "outputs": [],
   "source": [
    "specificTestsACTS = df.loc[df['Generator'] == 'ACTS', 'NSpecificTests'].values\n",
    "specificTestsSPEC = df.loc[df['Generator'] == 'SPECIFICITY_FMREDUCED', 'NSpecificTests'].values\n",
    "specificTestsBDD = df.loc[df['Generator'] == 'BDD_FMREDUCED', 'NSpecificTests'].values\n",
    "specificTestsMUTTESTGENERATOR = df.loc[df['Generator'] == 'MUTTESTGENERATOR', 'NSpecificTests'].values"
   ]
  },
  {
   "cell_type": "markdown",
   "metadata": {},
   "source": [
    "### Time"
   ]
  },
  {
   "cell_type": "code",
   "execution_count": 61,
   "metadata": {},
   "outputs": [
    {
     "name": "stdout",
     "output_type": "stream",
     "text": [
      "*** Test on ACTS vs SPECIFICITY ***\n",
      "WilcoxonResult(statistic=0.0, pvalue=3.663275894851821e-15)\n",
      "107.65853658536585\n",
      "26.924390243902437\n",
      "Effect size: -0.6142269474763654\n",
      "*** Test on ACTS vs BDD ***\n",
      "WilcoxonResult(statistic=0.0, pvalue=3.663890942678321e-15)\n",
      "107.65853658536585\n",
      "42.41707317073171\n",
      "Effect size: -0.6142253066039589\n",
      "*** Test on ACTS vs MUTTESTGENERATOR ***\n",
      "WilcoxonResult(statistic=0.0, pvalue=3.662660943750367e-15)\n",
      "107.65853658536585\n",
      "25.31951219512195\n",
      "Effect size: -0.6142285883619224\n",
      "*** Test on BDD vs SPECIFICITY ***\n",
      "WilcoxonResult(statistic=13.0, pvalue=5.909948131064861e-15)\n",
      "42.41707317073171\n",
      "26.924390243902437\n",
      "Effect size: -0.6095348728349685\n",
      "*** Test on BDD vs MUTTESTGENERATOR ***\n",
      "WilcoxonResult(statistic=0.0, pvalue=3.662968407211321e-15)\n",
      "42.41707317073171\n",
      "25.31951219512195\n",
      "Effect size: -0.6142277679175001\n",
      "*** Test on SPECIFICITY vs MUTTESTGENERATOR ***\n",
      "WilcoxonResult(statistic=400.0, pvalue=2.9357670954374376e-09)\n",
      "26.924390243902437\n",
      "25.31951219512195\n",
      "Effect size: -0.46345736272636473\n"
     ]
    }
   ],
   "source": [
    "timeACTS = df.loc[df['Generator'] == 'ACTS', 'Time'].values\n",
    "timeSPEC = df.loc[df['Generator'] == 'SPECIFICITY_FMREDUCED', 'Time'].values\n",
    "timeBDD = df.loc[df['Generator'] == 'BDD_FMREDUCED', 'Time'].values\n",
    "timeMUTTESTGENERATOR = df.loc[df['Generator'] == 'MUTTESTGENERATOR', 'Time'].values\n",
    "# Test the difference between the two generators\n",
    "test(timeACTS, timeSPEC, \"ACTS vs SPECIFICITY\")\n",
    "test(timeACTS, timeBDD, \"ACTS vs BDD\")\n",
    "test(timeACTS, timeMUTTESTGENERATOR, \"ACTS vs MUTTESTGENERATOR\")\n",
    "test(timeBDD, timeSPEC, \"BDD vs SPECIFICITY\")\n",
    "test(timeBDD, timeMUTTESTGENERATOR, \"BDD vs MUTTESTGENERATOR\")\n",
    "test(timeSPEC, timeMUTTESTGENERATOR, \"SPECIFICITY vs MUTTESTGENERATOR\")"
   ]
  },
  {
   "cell_type": "markdown",
   "metadata": {},
   "source": [
    "### Size"
   ]
  },
  {
   "cell_type": "code",
   "execution_count": 62,
   "metadata": {},
   "outputs": [
    {
     "name": "stdout",
     "output_type": "stream",
     "text": [
      "*** Test on ACTS vs SPECIFICITY ***\n",
      "WilcoxonResult(statistic=603.0, pvalue=0.43333623804747035)\n",
      "8.475609756097562\n",
      "8.685365853658537\n",
      "Effect size: -0.06118071412909993\n",
      "*** Test on ACTS vs BDD ***\n",
      "WilcoxonResult(statistic=654.5, pvalue=0.9364425084502694)\n",
      "8.475609756097562\n",
      "8.581707317073171\n",
      "Effect size: -0.006226798775593428\n",
      "*** Test on ACTS vs MUTTESTGENERATOR ***\n",
      "WilcoxonResult(statistic=713.0, pvalue=0.0011662052575471718)\n",
      "8.475609756097562\n",
      "7.097560975609756\n",
      "Effect size: -0.25354960101138146\n",
      "*** Test on BDD vs SPECIFICITY ***\n",
      "WilcoxonResult(statistic=275.0, pvalue=0.06926470512897845)\n",
      "8.581707317073171\n",
      "8.685365853658537\n",
      "Effect size: -0.141859598998474\n",
      "*** Test on BDD vs MUTTESTGENERATOR ***\n",
      "WilcoxonResult(statistic=757.0, pvalue=0.002820427647835429)\n",
      "8.581707317073171\n",
      "7.097560975609756\n",
      "Effect size: -0.23321900121317427\n",
      "*** Test on SPECIFICITY vs MUTTESTGENERATOR ***\n",
      "WilcoxonResult(statistic=759.0, pvalue=0.002930587210516576)\n",
      "8.685365853658537\n",
      "7.097560975609756\n",
      "Effect size: -0.23230273426077128\n"
     ]
    }
   ],
   "source": [
    "sizeACTS = df.loc[df['Generator'] == 'ACTS', 'Size'].values\n",
    "sizeSPEC = df.loc[df['Generator'] == 'SPECIFICITY_FMREDUCED', 'Size'].values\n",
    "sizeBDD = df.loc[df['Generator'] == 'BDD_FMREDUCED', 'Size'].values\n",
    "sizeMUTTESTGENERATOR = df.loc[df['Generator'] == 'MUTTESTGENERATOR', 'Size'].values\n",
    "# Test the difference between the two generators\n",
    "test(sizeACTS, sizeSPEC, \"ACTS vs SPECIFICITY\")\n",
    "test(sizeACTS, sizeBDD, \"ACTS vs BDD\")\n",
    "test(sizeACTS, sizeMUTTESTGENERATOR, \"ACTS vs MUTTESTGENERATOR\")\n",
    "test(sizeBDD, sizeSPEC, \"BDD vs SPECIFICITY\")\n",
    "test(sizeBDD, sizeMUTTESTGENERATOR, \"BDD vs MUTTESTGENERATOR\")\n",
    "test(sizeSPEC, sizeMUTTESTGENERATOR, \"SPECIFICITY vs MUTTESTGENERATOR\")"
   ]
  },
  {
   "cell_type": "markdown",
   "metadata": {},
   "source": [
    "### Tuples Covered"
   ]
  },
  {
   "cell_type": "code",
   "execution_count": 63,
   "metadata": {},
   "outputs": [
    {
     "name": "stdout",
     "output_type": "stream",
     "text": [
      "*** Test on ACTS vs MUTTESTGENERATOR ***\n",
      "WilcoxonResult(statistic=0.0, pvalue=3.5291038980355267e-15)\n",
      "1.0\n",
      "0.4612083706097561\n",
      "Effect size: -0.6145915469879835\n",
      "*** Test on BDD vs MUTTESTGENERATOR ***\n",
      "WilcoxonResult(statistic=0.0, pvalue=3.5291038980355267e-15)\n",
      "1.0\n",
      "0.4612083706097561\n",
      "Effect size: -0.6145915469879835\n",
      "*** Test on SPECIFICITY vs MUTTESTGENERATOR ***\n",
      "WilcoxonResult(statistic=0.0, pvalue=3.5291038980355267e-15)\n",
      "1.0\n",
      "0.4612083706097561\n",
      "Effect size: -0.6145915469879835\n"
     ]
    }
   ],
   "source": [
    "tpACTS = df.loc[df['Generator'] == 'ACTS', 'CombinatorialCoverage'].values\n",
    "tpSPEC = df.loc[df['Generator'] == 'SPECIFICITY_FMREDUCED', 'CombinatorialCoverage'].values\n",
    "tpBDD = df.loc[df['Generator'] == 'BDD_FMREDUCED', 'CombinatorialCoverage'].values\n",
    "tpMUTTESTGENERATOR = df.loc[df['Generator'] == 'MUTTESTGENERATOR', 'CombinatorialCoverage'].values\n",
    "# Test the difference between the two generators\n",
    "test(tpACTS, tpMUTTESTGENERATOR, \"ACTS vs MUTTESTGENERATOR\")\n",
    "test(tpBDD, tpMUTTESTGENERATOR, \"BDD vs MUTTESTGENERATOR\")\n",
    "test(tpSPEC, tpMUTTESTGENERATOR, \"SPECIFICITY vs MUTTESTGENERATOR\")"
   ]
  },
  {
   "cell_type": "markdown",
   "metadata": {},
   "source": [
    "## Box-Plots"
   ]
  },
  {
   "cell_type": "code",
   "execution_count": 64,
   "metadata": {},
   "outputs": [],
   "source": [
    "def box_plot(y1, y2, y3, y4, ylabel, xscale = 'log', plot_correspondence = False, scale = 1, showfliers = True):\n",
    "    plt.figure(figsize=(4,2.5))\n",
    "    sns.boxplot(data=[y1/scale, y2/scale, y3/scale, y4/scale], orient='h', showfliers = showfliers, showmeans=True, meanprops={\"marker\":\"o\",\"markerfacecolor\":\"red\", \"markeredgecolor\":\"white\"})\n",
    "    plt.xscale(xscale)\n",
    "    plt.yticks(range(4), labels=['ACTS', 'BDD', 'SPECGEN', 'MUTTESTGEN'])\n",
    "    plt.xlabel(ylabel)\n",
    "    plt.show()"
   ]
  },
  {
   "cell_type": "markdown",
   "metadata": {},
   "source": [
    "### Fault detection"
   ]
  },
  {
   "cell_type": "code",
   "execution_count": 65,
   "metadata": {},
   "outputs": [
    {
     "data": {
      "image/png": "[encoded data removed]",
      "text/plain": [
       "<Figure size 400x250 with 1 Axes>"
      ]
     },
     "metadata": {},
     "output_type": "display_data"
    }
   ],
   "source": [
    "box_plot(faultDetectionACTS, faultDetectionBDD, faultDetectionSPEC, faultDetectionMUTTESTGENERATOR, 'Fault Detection', xscale = 'linear', scale = 1, showfliers = False)"
   ]
  },
  {
   "cell_type": "markdown",
   "metadata": {},
   "source": [
    "### Specificity"
   ]
  },
  {
   "cell_type": "code",
   "execution_count": 66,
   "metadata": {},
   "outputs": [
    {
     "data": {
      "image/png": "[encoded data removed]",
      "text/plain": [
       "<Figure size 400x250 with 1 Axes>"
      ]
     },
     "metadata": {},
     "output_type": "display_data"
    }
   ],
   "source": [
    "box_plot(specificityACTS, specificityBDD, specificitySPEC, faultDetectionMUTTESTGENERATOR, 'Specificity', xscale = 'linear', scale = 1, showfliers = False)"
   ]
  },
  {
   "cell_type": "code",
   "execution_count": null,
   "metadata": {},
   "outputs": [],
   "source": [
    "box_plot(specificTestsACTS, specificTestsBDD, specificTestsSPEC, specificTestsMUTTESTGENERATOR, '# of Specific Tests', xscale = 'linear', scale = 1, showfliers = False)"
   ]
  },
  {
   "cell_type": "markdown",
   "metadata": {},
   "source": [
    "### Time"
   ]
  },
  {
   "cell_type": "code",
   "execution_count": 67,
   "metadata": {},
   "outputs": [
    {
     "data": {
      "image/png": "[encoded data removed]",
      "text/plain": [
       "<Figure size 400x250 with 1 Axes>"
      ]
     },
     "metadata": {},
     "output_type": "display_data"
    }
   ],
   "source": [
    "box_plot(timeACTS, timeBDD, timeSPEC, faultDetectionMUTTESTGENERATOR, 'Time', xscale = 'linear', scale = 1, showfliers = False)"
   ]
  },
  {
   "cell_type": "markdown",
   "metadata": {},
   "source": [
    "### Size"
   ]
  },
  {
   "cell_type": "code",
   "execution_count": 68,
   "metadata": {},
   "outputs": [
    {
     "data": {
      "image/png": "[encoded data removed]",
      "text/plain": [
       "<Figure size 400x250 with 1 Axes>"
      ]
     },
     "metadata": {},
     "output_type": "display_data"
    }
   ],
   "source": [
    "box_plot(sizeACTS, sizeBDD, sizeSPEC, faultDetectionMUTTESTGENERATOR, 'Size', xscale = 'linear', scale = 1, showfliers = False)"
   ]
  },
  {
   "cell_type": "markdown",
   "metadata": {},
   "source": [
    "### Tuples Covered"
   ]
  },
  {
   "cell_type": "code",
   "execution_count": 42,
   "metadata": {},
   "outputs": [
    {
     "data": {
      "image/png": "[encoded data removed]",
      "text/plain": [
       "<Figure size 400x250 with 1 Axes>"
      ]
     },
     "metadata": {},
     "output_type": "display_data"
    }
   ],
   "source": [
    "box_plot(tpACTS, tpBDD, tpSPEC, tpMUTTESTGENERATOR, 'Cov. Tuples', xscale = 'linear', scale = 1, showfliers = False)"
   ]
  }
 ],
 "metadata": {
  "kernelspec": {
   "display_name": "Python 3",
   "language": "python",
   "name": "python3"
  },
  "language_info": {
   "codemirror_mode": {
    "name": "ipython",
    "version": 3
   },
   "file_extension": ".py",
   "mimetype": "text/x-python",
   "name": "python",
   "nbconvert_exporter": "python",
   "pygments_lexer": "ipython3",
   "version": "3.11.3"
  },
  "orig_nbformat": 4
 },
 "nbformat": 4,
 "nbformat_minor": 2
}
