{
 "cells": [
  {
   "cell_type": "markdown",
   "metadata": {},
   "source": [
    "## Libraries"
   ]
  },
  {
   "cell_type": "code",
   "execution_count": 29,
   "metadata": {},
   "outputs": [],
   "source": [
    "import pandas as pd\n",
    "import scipy.stats as stats\n",
    "import math\n",
    "import matplotlib.pyplot as plt\n",
    "import seaborn as sns"
   ]
  },
  {
   "cell_type": "markdown",
   "metadata": {},
   "source": [
    "## Load the data"
   ]
  },
  {
   "cell_type": "code",
   "execution_count": 30,
   "metadata": {},
   "outputs": [],
   "source": [
    "# Read the file resulsSPECIFICITY.csv into a pandas dataframe\n",
    "df = pd.read_csv('resultsSPECIFICITY.csv', delimiter=';')\n",
    "\n",
    "# Group the dataframe by OldFM, NewFM, Generator, and for the other columns compute the average\n",
    "df = df.groupby(['OldFM', 'NewFM', 'Generator']).mean()\n",
    "# Reset the index\n",
    "df = df.reset_index()"
   ]
  },
  {
   "cell_type": "markdown",
   "metadata": {},
   "source": [
    "## Wilcoxon-Signed Rank Tests"
   ]
  },
  {
   "cell_type": "code",
   "execution_count": 31,
   "metadata": {},
   "outputs": [],
   "source": [
    "def test(datax, datay, label):\n",
    "    test_times = stats.wilcoxon(datax, datay, alternative='two-sided', method='approx')\n",
    "    print (\"*** Test on \" + label + \" ***\")\n",
    "    print (test_times)\n",
    "    print (datax.mean())\n",
    "    print (datay.mean())\n",
    "    print (\"Effect size: \" + str(test_times.zstatistic / math.sqrt(len(datax) + len(datay))))"
   ]
  },
  {
   "cell_type": "markdown",
   "metadata": {},
   "source": [
    "### Fault detection"
   ]
  },
  {
   "cell_type": "code",
   "execution_count": 32,
   "metadata": {},
   "outputs": [
    {
     "name": "stdout",
     "output_type": "stream",
     "text": [
      "*** Test on ACTS vs SPECIFICITY ***\n",
      "WilcoxonResult(statistic=3848.5, pvalue=0.10246140329616256)\n",
      "0.7405379397195122\n",
      "0.7402268076219513\n",
      "Effect size: -0.04032495234137963\n",
      "*** Test on ACTS vs BDD ***\n",
      "WilcoxonResult(statistic=3875.0, pvalue=0.14921608270246023)\n",
      "0.7405379397195122\n",
      "0.7401843351585365\n",
      "Effect size: -0.03561520682964403\n",
      "*** Test on ACTS vs MUTTESTGENERATOR ***\n",
      "WilcoxonResult(statistic=2876.5, pvalue=0.7133477259770707)\n",
      "0.7405379397195122\n",
      "0.7405356341463414\n",
      "Effect size: -0.009071400601199188\n",
      "*** Test on BDD vs SPECIFICITY ***\n",
      "WilcoxonResult(statistic=3943.0, pvalue=0.8883078415124714)\n",
      "0.7401843351585365\n",
      "0.7402268076219513\n",
      "Effect size: -0.0034680597013614037\n",
      "*** Test on BDD vs MUTTESTGENERATOR ***\n",
      "WilcoxonResult(statistic=4187.0, pvalue=0.2450547900899287)\n",
      "0.7401843351585365\n",
      "0.7405356341463414\n",
      "Effect size: -0.028704531039066384\n",
      "*** Test on SPECIFICITY vs MUTTESTGENERATOR ***\n",
      "WilcoxonResult(statistic=3930.5, pvalue=0.23692100009906003)\n",
      "0.7402268076219513\n",
      "0.7405356341463414\n",
      "Effect size: -0.029205134837423017\n"
     ]
    }
   ],
   "source": [
    "faultDetectionACTS = df.loc[df['Generator'] == 'ACTS', 'FaultDetection'].values\n",
    "faultDetectionSPEC = df.loc[df['Generator'] == 'SPECIFICITY_FMREDUCED', 'FaultDetection'].values\n",
    "faultDetectionBDD = df.loc[df['Generator'] == 'BDD_FMREDUCED', 'FaultDetection'].values\n",
    "faultDetectionMUTTESTGENERATOR = df.loc[df['Generator'] == 'MUTTESTGENERATOR', 'FaultDetection'].values\n",
    "# Test the difference between the two generators\n",
    "test(faultDetectionACTS, faultDetectionSPEC, \"ACTS vs SPECIFICITY\")\n",
    "test(faultDetectionACTS, faultDetectionBDD, \"ACTS vs BDD\")\n",
    "test(faultDetectionACTS, faultDetectionMUTTESTGENERATOR, \"ACTS vs MUTTESTGENERATOR\")\n",
    "test(faultDetectionBDD, faultDetectionSPEC, \"BDD vs SPECIFICITY\")\n",
    "test(faultDetectionBDD, faultDetectionMUTTESTGENERATOR, \"BDD vs MUTTESTGENERATOR\")\n",
    "test(faultDetectionSPEC, faultDetectionMUTTESTGENERATOR, \"SPECIFICITY vs MUTTESTGENERATOR\")\n"
   ]
  },
  {
   "cell_type": "markdown",
   "metadata": {},
   "source": [
    "### Specificity"
   ]
  },
  {
   "cell_type": "code",
   "execution_count": 33,
   "metadata": {},
   "outputs": [
    {
     "name": "stdout",
     "output_type": "stream",
     "text": [
      "*** Test on ACTS vs SPECIFICITY ***\n",
      "WilcoxonResult(statistic=0.0, pvalue=7.230789874814972e-39)\n",
      "0.48209446409756096\n",
      "0.5316380367317074\n",
      "Effect size: -0.3220037279520086\n",
      "*** Test on ACTS vs BDD ***\n",
      "WilcoxonResult(statistic=3755.0, pvalue=3.061726509309776e-13)\n",
      "0.48209446409756096\n",
      "0.49917493103048777\n",
      "Effect size: -0.1800545615521312\n",
      "*** Test on ACTS vs MUTTESTGENERATOR ***\n",
      "WilcoxonResult(statistic=24595.0, pvalue=0.015384547941909623)\n",
      "0.48209446409756096\n",
      "0.49128920109756097\n",
      "Effect size: -0.059836604329531966\n",
      "*** Test on BDD vs SPECIFICITY ***\n",
      "WilcoxonResult(statistic=164.0, pvalue=8.10561030804106e-31)\n",
      "0.49917493103048777\n",
      "0.5316380367317074\n",
      "Effect size: -0.28500840867228744\n",
      "*** Test on BDD vs MUTTESTGENERATOR ***\n",
      "WilcoxonResult(statistic=23282.0, pvalue=0.007866334466988081)\n",
      "0.49917493103048777\n",
      "0.49128920109756097\n",
      "Effect size: -0.06562855124761888\n",
      "*** Test on SPECIFICITY vs MUTTESTGENERATOR ***\n",
      "WilcoxonResult(statistic=12950.0, pvalue=3.7721432574283775e-14)\n",
      "0.5316380367317074\n",
      "0.49128920109756097\n",
      "Effect size: -0.18689371084232384\n"
     ]
    }
   ],
   "source": [
    "specificityACTS = df.loc[df['Generator'] == 'ACTS', 'Specificity'].values\n",
    "specificitySPEC = df.loc[df['Generator'] == 'SPECIFICITY_FMREDUCED', 'Specificity'].values\n",
    "specificityBDD = df.loc[df['Generator'] == 'BDD_FMREDUCED', 'Specificity'].values\n",
    "specificityMUTTESTGENERATOR = df.loc[df['Generator'] == 'MUTTESTGENERATOR', 'Specificity'].values\n",
    "# Test the difference between the two generators\n",
    "test(specificityACTS, specificitySPEC, \"ACTS vs SPECIFICITY\")\n",
    "test(specificityACTS, specificityBDD, \"ACTS vs BDD\")\n",
    "test(specificityACTS, specificityMUTTESTGENERATOR, \"ACTS vs MUTTESTGENERATOR\")\n",
    "test(specificityBDD, specificitySPEC, \"BDD vs SPECIFICITY\")\n",
    "test(specificityBDD, specificityMUTTESTGENERATOR, \"BDD vs MUTTESTGENERATOR\")\n",
    "test(specificitySPEC, specificityMUTTESTGENERATOR, \"SPECIFICITY vs MUTTESTGENERATOR\")"
   ]
  },
  {
   "cell_type": "markdown",
   "metadata": {},
   "source": [
    "### Time"
   ]
  },
  {
   "cell_type": "code",
   "execution_count": 34,
   "metadata": {},
   "outputs": [
    {
     "name": "stdout",
     "output_type": "stream",
     "text": [
      "*** Test on ACTS vs SPECIFICITY ***\n",
      "WilcoxonResult(statistic=0.0, pvalue=7.562125703224379e-136)\n",
      "168.48536585365855\n",
      "41.00731707317073\n",
      "Effect size: -0.6125614859121863\n",
      "*** Test on ACTS vs BDD ***\n",
      "WilcoxonResult(statistic=4.0, pvalue=7.673505686322676e-136)\n",
      "168.48536585365855\n",
      "39.51341463414634\n",
      "Effect size: -0.6125469549914911\n",
      "*** Test on ACTS vs MUTTESTGENERATOR ***\n",
      "WilcoxonResult(statistic=100.5, pvalue=1.092480063336082e-135)\n",
      "168.48536585365855\n",
      "38.667073170731705\n",
      "Effect size: -0.6121957709479099\n",
      "*** Test on BDD vs SPECIFICITY ***\n",
      "WilcoxonResult(statistic=127955.0, pvalue=0.004174372730480683)\n",
      "39.51341463414634\n",
      "41.00731707317073\n",
      "Effect size: -0.07073810995913425\n",
      "*** Test on BDD vs MUTTESTGENERATOR ***\n",
      "WilcoxonResult(statistic=122079.0, pvalue=0.0028044245050046135)\n",
      "39.51341463414634\n",
      "38.667073170731705\n",
      "Effect size: -0.07379327293989571\n",
      "*** Test on SPECIFICITY vs MUTTESTGENERATOR ***\n",
      "WilcoxonResult(statistic=110613.0, pvalue=3.5359108844271533e-07)\n",
      "41.00731707317073\n",
      "38.667073170731705\n",
      "Effect size: -0.12574743286431841\n"
     ]
    }
   ],
   "source": [
    "timeACTS = df.loc[df['Generator'] == 'ACTS', 'Time'].values\n",
    "timeSPEC = df.loc[df['Generator'] == 'SPECIFICITY_FMREDUCED', 'Time'].values\n",
    "timeBDD = df.loc[df['Generator'] == 'BDD_FMREDUCED', 'Time'].values\n",
    "timeMUTTESTGENERATOR = df.loc[df['Generator'] == 'MUTTESTGENERATOR', 'Time'].values\n",
    "# Test the difference between the two generators\n",
    "test(timeACTS, timeSPEC, \"ACTS vs SPECIFICITY\")\n",
    "test(timeACTS, timeBDD, \"ACTS vs BDD\")\n",
    "test(timeACTS, timeMUTTESTGENERATOR, \"ACTS vs MUTTESTGENERATOR\")\n",
    "test(timeBDD, timeSPEC, \"BDD vs SPECIFICITY\")\n",
    "test(timeBDD, timeMUTTESTGENERATOR, \"BDD vs MUTTESTGENERATOR\")\n",
    "test(timeSPEC, timeMUTTESTGENERATOR, \"SPECIFICITY vs MUTTESTGENERATOR\")"
   ]
  },
  {
   "cell_type": "markdown",
   "metadata": {},
   "source": [
    "### Size"
   ]
  },
  {
   "cell_type": "code",
   "execution_count": 35,
   "metadata": {},
   "outputs": [
    {
     "name": "stdout",
     "output_type": "stream",
     "text": [
      "*** Test on ACTS vs SPECIFICITY ***\n",
      "WilcoxonResult(statistic=27084.0, pvalue=3.916352778837877e-07)\n",
      "8.475609756097562\n",
      "8.68658536585366\n",
      "Effect size: -0.12526829300613576\n",
      "*** Test on ACTS vs BDD ***\n",
      "WilcoxonResult(statistic=31379.5, pvalue=0.020713377266814933)\n",
      "8.475609756097562\n",
      "8.534146341463414\n",
      "Effect size: -0.057119624493544345\n",
      "*** Test on ACTS vs MUTTESTGENERATOR ***\n",
      "WilcoxonResult(statistic=70175.0, pvalue=8.710268717677615e-25)\n",
      "8.475609756097562\n",
      "7.097560975609756\n",
      "Effect size: -0.25383623534232036\n",
      "*** Test on BDD vs SPECIFICITY ***\n",
      "WilcoxonResult(statistic=9657.0, pvalue=4.366412551748101e-08)\n",
      "8.534146341463414\n",
      "8.68658536585366\n",
      "Effect size: -0.13520419573726014\n",
      "*** Test on BDD vs MUTTESTGENERATOR ***\n",
      "WilcoxonResult(statistic=77556.5, pvalue=4.567578622023178e-19)\n",
      "8.534146341463414\n",
      "7.097560975609756\n",
      "Effect size: -0.22032016685241337\n",
      "*** Test on SPECIFICITY vs MUTTESTGENERATOR ***\n",
      "WilcoxonResult(statistic=74501.0, pvalue=2.231401374240459e-20)\n",
      "8.68658536585366\n",
      "7.097560975609756\n",
      "Effect size: -0.2284284186082195\n"
     ]
    }
   ],
   "source": [
    "sizeACTS = df.loc[df['Generator'] == 'ACTS', 'Size'].values\n",
    "sizeSPEC = df.loc[df['Generator'] == 'SPECIFICITY_FMREDUCED', 'Size'].values\n",
    "sizeBDD = df.loc[df['Generator'] == 'BDD_FMREDUCED', 'Size'].values\n",
    "sizeMUTTESTGENERATOR = df.loc[df['Generator'] == 'MUTTESTGENERATOR', 'Size'].values\n",
    "# Test the difference between the two generators\n",
    "test(sizeACTS, sizeSPEC, \"ACTS vs SPECIFICITY\")\n",
    "test(sizeACTS, sizeBDD, \"ACTS vs BDD\")\n",
    "test(sizeACTS, sizeMUTTESTGENERATOR, \"ACTS vs MUTTESTGENERATOR\")\n",
    "test(sizeBDD, sizeSPEC, \"BDD vs SPECIFICITY\")\n",
    "test(sizeBDD, sizeMUTTESTGENERATOR, \"BDD vs MUTTESTGENERATOR\")\n",
    "test(sizeSPEC, sizeMUTTESTGENERATOR, \"SPECIFICITY vs MUTTESTGENERATOR\")"
   ]
  },
  {
   "cell_type": "markdown",
   "metadata": {},
   "source": [
    "## Box-Plots"
   ]
  },
  {
   "cell_type": "code",
   "execution_count": 36,
   "metadata": {},
   "outputs": [],
   "source": [
    "def box_plot(y1, y2, y3, y4, ylabel, xscale = 'log', plot_correspondence = False, scale = 1, showfliers = True):\n",
    "    plt.figure(figsize=(4,2.5))\n",
    "    sns.boxplot(data=[y1/scale, y2/scale, y3/scale, y4/scale], orient='h', showfliers = showfliers, showmeans=True, meanprops={\"marker\":\"o\",\"markerfacecolor\":\"red\", \"markeredgecolor\":\"white\"})\n",
    "    plt.xscale(xscale)\n",
    "    plt.yticks(range(4), labels=['ACTS', 'BDD', 'SPECGEN', 'MUTTESTGEN'])\n",
    "    plt.xlabel(ylabel)\n",
    "    plt.show()"
   ]
  },
  {
   "cell_type": "markdown",
   "metadata": {},
   "source": [
    "### Fault detection"
   ]
  },
  {
   "cell_type": "code",
   "execution_count": 37,
   "metadata": {},
   "outputs": [
    {
     "data": {
      "image/png": "[encoded data removed]",
      "text/plain": [
       "<Figure size 400x250 with 1 Axes>"
      ]
     },
     "metadata": {},
     "output_type": "display_data"
    }
   ],
   "source": [
    "box_plot(faultDetectionACTS, faultDetectionBDD, faultDetectionSPEC, faultDetectionMUTTESTGENERATOR, 'Fault Detection', xscale = 'linear', scale = 1, showfliers = False)"
   ]
  },
  {
   "cell_type": "markdown",
   "metadata": {},
   "source": [
    "### Specificity"
   ]
  },
  {
   "cell_type": "code",
   "execution_count": 38,
   "metadata": {},
   "outputs": [
    {
     "data": {
      "image/png": "[encoded data removed]",
      "text/plain": [
       "<Figure size 400x250 with 1 Axes>"
      ]
     },
     "metadata": {},
     "output_type": "display_data"
    }
   ],
   "source": [
    "box_plot(specificityACTS, specificityBDD, specificitySPEC, faultDetectionMUTTESTGENERATOR, 'Specificity', xscale = 'linear', scale = 1, showfliers = False)"
   ]
  },
  {
   "cell_type": "markdown",
   "metadata": {},
   "source": [
    "### Time"
   ]
  },
  {
   "cell_type": "code",
   "execution_count": 39,
   "metadata": {},
   "outputs": [
    {
     "data": {
      "image/png": "[encoded data removed]",
      "text/plain": [
       "<Figure size 400x250 with 1 Axes>"
      ]
     },
     "metadata": {},
     "output_type": "display_data"
    }
   ],
   "source": [
    "box_plot(timeACTS, timeBDD, timeSPEC, faultDetectionMUTTESTGENERATOR, 'Time', xscale = 'linear', scale = 1, showfliers = False)"
   ]
  },
  {
   "cell_type": "markdown",
   "metadata": {},
   "source": [
    "### Size"
   ]
  },
  {
   "cell_type": "code",
   "execution_count": 40,
   "metadata": {},
   "outputs": [
    {
     "data": {
      "image/png": "[encoded data removed]",
      "text/plain": [
       "<Figure size 400x250 with 1 Axes>"
      ]
     },
     "metadata": {},
     "output_type": "display_data"
    }
   ],
   "source": [
    "box_plot(sizeACTS, sizeBDD, sizeSPEC, faultDetectionMUTTESTGENERATOR, 'Size', xscale = 'linear', scale = 1, showfliers = False)"
   ]
  }
 ],
 "metadata": {
  "kernelspec": {
   "display_name": "Python 3",
   "language": "python",
   "name": "python3"
  },
  "language_info": {
   "codemirror_mode": {
    "name": "ipython",
    "version": 3
   },
   "file_extension": ".py",
   "mimetype": "text/x-python",
   "name": "python",
   "nbconvert_exporter": "python",
   "pygments_lexer": "ipython3",
   "version": "3.11.3"
  },
  "orig_nbformat": 4
 },
 "nbformat": 4,
 "nbformat_minor": 2
}
