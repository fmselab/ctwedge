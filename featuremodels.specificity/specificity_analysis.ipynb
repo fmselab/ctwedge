{
 "cells": [
  {
   "cell_type": "markdown",
   "metadata": {},
   "source": [
    "## Libraries"
   ]
  },
  {
   "cell_type": "code",
   "execution_count": 1,
   "metadata": {},
   "outputs": [],
   "source": [
    "import pandas as pd\n",
    "import scipy.stats as stats\n",
    "import math\n",
    "import matplotlib.pyplot as plt\n",
    "import seaborn as sns"
   ]
  },
  {
   "cell_type": "markdown",
   "metadata": {},
   "source": [
    "## Load the data"
   ]
  },
  {
   "cell_type": "code",
   "execution_count": 2,
   "metadata": {},
   "outputs": [],
   "source": [
    "# Read the file resulsSPECIFICITY.csv into a pandas dataframe\n",
    "df = pd.read_csv('resultsSPECIFICITY.csv', delimiter=';')\n",
    "\n",
    "# Group the dataframe by OldFM, NewFM, Generator, and for the other columns compute the average\n",
    "df = df.groupby(['OldFM', 'NewFM', 'Generator']).mean()\n",
    "# Reset the index\n",
    "df = df.reset_index()"
   ]
  },
  {
   "cell_type": "markdown",
   "metadata": {},
   "source": [
    "## Wilcoxon-Signed Rank Tests"
   ]
  },
  {
   "cell_type": "code",
   "execution_count": 3,
   "metadata": {},
   "outputs": [],
   "source": [
    "def test(datax, datay, label):\n",
    "    test_times = stats.wilcoxon(datax, datay, alternative='two-sided', method='approx')\n",
    "    print (\"*** Test on \" + label + \" ***\")\n",
    "    print (test_times)\n",
    "    print (datax.mean())\n",
    "    print (datay.mean())\n",
    "    print (\"Effect size: \" + str(test_times.zstatistic / math.sqrt(len(datax) + len(datay))))"
   ]
  },
  {
   "cell_type": "markdown",
   "metadata": {},
   "source": [
    "### Fault detection"
   ]
  },
  {
   "cell_type": "code",
   "execution_count": 4,
   "metadata": {},
   "outputs": [
    {
     "name": "stdout",
     "output_type": "stream",
     "text": [
      "*** Test on ACTS vs SPECIFICITY ***\n",
      "WilcoxonResult(statistic=241.0, pvalue=0.8908605848200231)\n",
      "0.7405411171205962\n",
      "0.7401910493414635\n",
      "Effect size: -0.010714718038005428\n",
      "*** Test on ACTS vs BDD ***\n",
      "WilcoxonResult(statistic=301.0, pvalue=0.8185488006057725)\n",
      "0.7405411171205962\n",
      "0.7401905080623307\n",
      "Effect size: -0.017914058447860894\n",
      "*** Test on ACTS vs MUTTESTGENERATOR ***\n",
      "WilcoxonResult(statistic=138.0, pvalue=0.5095441250827822)\n",
      "0.7405411171205962\n",
      "0.7405367821463416\n",
      "Effect size: -0.051502022845487376\n",
      "*** Test on BDD vs SPECIFICITY ***\n",
      "WilcoxonResult(statistic=187.0, pvalue=0.7154697259047225)\n",
      "0.7401905080623307\n",
      "0.7401910493414635\n",
      "Effect size: -0.02846423150300551\n",
      "*** Test on BDD vs MUTTESTGENERATOR ***\n",
      "WilcoxonResult(statistic=182.0, pvalue=0.8664265183929357)\n",
      "0.7401905080623307\n",
      "0.7405367821463416\n",
      "Effect size: -0.013134156056427633\n",
      "*** Test on SPECIFICITY vs MUTTESTGENERATOR ***\n",
      "WilcoxonResult(statistic=148.0, pvalue=0.6963079193828746)\n",
      "0.7401910493414635\n",
      "0.7405367821463416\n",
      "Effect size: -0.03047802821499861\n"
     ]
    }
   ],
   "source": [
    "faultDetectionACTS = df.loc[df['Generator'] == 'ACTS', 'FaultDetection'].values\n",
    "faultDetectionSPEC = df.loc[df['Generator'] == 'SPECIFICITY_FMREDUCED', 'FaultDetection'].values\n",
    "faultDetectionBDD = df.loc[df['Generator'] == 'BDD_FMREDUCED', 'FaultDetection'].values\n",
    "faultDetectionMUTTESTGENERATOR = df.loc[df['Generator'] == 'MUTTESTGENERATOR', 'FaultDetection'].values\n",
    "# Test the difference between the two generators\n",
    "test(faultDetectionACTS, faultDetectionSPEC, \"ACTS vs SPECIFICITY\")\n",
    "test(faultDetectionACTS, faultDetectionBDD, \"ACTS vs BDD\")\n",
    "test(faultDetectionACTS, faultDetectionMUTTESTGENERATOR, \"ACTS vs MUTTESTGENERATOR\")\n",
    "test(faultDetectionBDD, faultDetectionSPEC, \"BDD vs SPECIFICITY\")\n",
    "test(faultDetectionBDD, faultDetectionMUTTESTGENERATOR, \"BDD vs MUTTESTGENERATOR\")\n",
    "test(faultDetectionSPEC, faultDetectionMUTTESTGENERATOR, \"SPECIFICITY vs MUTTESTGENERATOR\")\n"
   ]
  },
  {
   "cell_type": "markdown",
   "metadata": {},
   "source": [
    "### Specificity"
   ]
  },
  {
   "cell_type": "code",
   "execution_count": 5,
   "metadata": {},
   "outputs": [
    {
     "name": "stdout",
     "output_type": "stream",
     "text": [
      "*** Test on ACTS vs SPECIFICITY ***\n",
      "WilcoxonResult(statistic=0.0, pvalue=2.7015948487105505e-05)\n",
      "0.4820944640975609\n",
      "0.531137669296748\n",
      "Effect size: -0.32775121882711133\n",
      "*** Test on ACTS vs BDD ***\n",
      "WilcoxonResult(statistic=63.0, pvalue=0.03924880796096683)\n",
      "0.4820944640975609\n",
      "0.4989648600338754\n",
      "Effect size: -0.16098147666797008\n",
      "*** Test on ACTS vs MUTTESTGENERATOR ***\n",
      "WilcoxonResult(statistic=254.5, pvalue=0.46178950128527485)\n",
      "0.4820944640975609\n",
      "0.491289201097561\n",
      "Effect size: -0.057464399474557275\n",
      "*** Test on BDD vs SPECIFICITY ***\n",
      "WilcoxonResult(statistic=3.0, pvalue=4.0253693159493835e-05)\n",
      "0.4989648600338754\n",
      "0.531137669296748\n",
      "Effect size: -0.32062619233086975\n",
      "*** Test on BDD vs MUTTESTGENERATOR ***\n",
      "WilcoxonResult(statistic=252.0, pvalue=0.43646537709366684)\n",
      "0.4989648600338754\n",
      "0.491289201097561\n",
      "Effect size: -0.06076532160684663\n",
      "*** Test on SPECIFICITY vs MUTTESTGENERATOR ***\n",
      "WilcoxonResult(statistic=163.0, pvalue=0.021429990328907453)\n",
      "0.531137669296748\n",
      "0.491289201097561\n",
      "Effect size: -0.17962496167298617\n"
     ]
    }
   ],
   "source": [
    "specificityACTS = df.loc[df['Generator'] == 'ACTS', 'Specificity'].values\n",
    "specificitySPEC = df.loc[df['Generator'] == 'SPECIFICITY_FMREDUCED', 'Specificity'].values\n",
    "specificityBDD = df.loc[df['Generator'] == 'BDD_FMREDUCED', 'Specificity'].values\n",
    "specificityMUTTESTGENERATOR = df.loc[df['Generator'] == 'MUTTESTGENERATOR', 'Specificity'].values\n",
    "# Test the difference between the two generators\n",
    "test(specificityACTS, specificitySPEC, \"ACTS vs SPECIFICITY\")\n",
    "test(specificityACTS, specificityBDD, \"ACTS vs BDD\")\n",
    "test(specificityACTS, specificityMUTTESTGENERATOR, \"ACTS vs MUTTESTGENERATOR\")\n",
    "test(specificityBDD, specificitySPEC, \"BDD vs SPECIFICITY\")\n",
    "test(specificityBDD, specificityMUTTESTGENERATOR, \"BDD vs MUTTESTGENERATOR\")\n",
    "test(specificitySPEC, specificityMUTTESTGENERATOR, \"SPECIFICITY vs MUTTESTGENERATOR\")"
   ]
  },
  {
   "cell_type": "markdown",
   "metadata": {},
   "source": [
    "### Time"
   ]
  },
  {
   "cell_type": "code",
   "execution_count": 6,
   "metadata": {},
   "outputs": [
    {
     "name": "stdout",
     "output_type": "stream",
     "text": [
      "*** Test on ACTS vs SPECIFICITY ***\n",
      "WilcoxonResult(statistic=0.0, pvalue=3.663890942678321e-15)\n",
      "107.1822493224932\n",
      "26.902574525745255\n",
      "Effect size: -0.6142253066039589\n",
      "*** Test on ACTS vs BDD ***\n",
      "WilcoxonResult(statistic=0.0, pvalue=3.663890942678321e-15)\n",
      "107.1822493224932\n",
      "42.389024390243904\n",
      "Effect size: -0.6142253066039589\n",
      "*** Test on ACTS vs MUTTESTGENERATOR ***\n",
      "WilcoxonResult(statistic=0.0, pvalue=3.663583406673553e-15)\n",
      "107.1822493224932\n",
      "25.438211382113828\n",
      "Effect size: -0.6142261270385183\n",
      "*** Test on BDD vs SPECIFICITY ***\n",
      "WilcoxonResult(statistic=13.0, pvalue=5.910436802212473e-15)\n",
      "42.389024390243904\n",
      "26.902574525745255\n",
      "Effect size: -0.6095340586622644\n",
      "*** Test on BDD vs MUTTESTGENERATOR ***\n",
      "WilcoxonResult(statistic=0.0, pvalue=3.663275894851821e-15)\n",
      "42.389024390243904\n",
      "25.438211382113828\n",
      "Effect size: -0.6142269474763654\n",
      "*** Test on SPECIFICITY vs MUTTESTGENERATOR ***\n",
      "WilcoxonResult(statistic=442.0, pvalue=2.6717044653518603e-08)\n",
      "26.902574525745255\n",
      "25.438211382113828\n",
      "Effect size: -0.43429523575093687\n"
     ]
    }
   ],
   "source": [
    "timeACTS = df.loc[df['Generator'] == 'ACTS', 'Time'].values\n",
    "timeSPEC = df.loc[df['Generator'] == 'SPECIFICITY_FMREDUCED', 'Time'].values\n",
    "timeBDD = df.loc[df['Generator'] == 'BDD_FMREDUCED', 'Time'].values\n",
    "timeMUTTESTGENERATOR = df.loc[df['Generator'] == 'MUTTESTGENERATOR', 'Time'].values\n",
    "# Test the difference between the two generators\n",
    "test(timeACTS, timeSPEC, \"ACTS vs SPECIFICITY\")\n",
    "test(timeACTS, timeBDD, \"ACTS vs BDD\")\n",
    "test(timeACTS, timeMUTTESTGENERATOR, \"ACTS vs MUTTESTGENERATOR\")\n",
    "test(timeBDD, timeSPEC, \"BDD vs SPECIFICITY\")\n",
    "test(timeBDD, timeMUTTESTGENERATOR, \"BDD vs MUTTESTGENERATOR\")\n",
    "test(timeSPEC, timeMUTTESTGENERATOR, \"SPECIFICITY vs MUTTESTGENERATOR\")"
   ]
  },
  {
   "cell_type": "markdown",
   "metadata": {},
   "source": [
    "### Size"
   ]
  },
  {
   "cell_type": "code",
   "execution_count": 7,
   "metadata": {},
   "outputs": [
    {
     "name": "stdout",
     "output_type": "stream",
     "text": [
      "*** Test on ACTS vs SPECIFICITY ***\n",
      "WilcoxonResult(statistic=567.0, pvalue=0.3679143535045222)\n",
      "8.475609756097562\n",
      "8.685907859078592\n",
      "Effect size: -0.07030840998814818\n",
      "*** Test on ACTS vs BDD ***\n",
      "WilcoxonResult(statistic=660.5, pvalue=0.9812893455118291)\n",
      "8.475609756097562\n",
      "8.576287262872627\n",
      "Effect size: -0.0018313308179716114\n",
      "*** Test on ACTS vs MUTTESTGENERATOR ***\n",
      "WilcoxonResult(statistic=713.0, pvalue=0.0011662052575471718)\n",
      "8.475609756097562\n",
      "7.097560975609756\n",
      "Effect size: -0.25354960101138146\n",
      "*** Test on BDD vs SPECIFICITY ***\n",
      "WilcoxonResult(statistic=275.0, pvalue=0.04366511224381909)\n",
      "8.576287262872627\n",
      "8.685907859078592\n",
      "Effect size: -0.15752399362396555\n",
      "*** Test on BDD vs MUTTESTGENERATOR ***\n",
      "WilcoxonResult(statistic=758.5, pvalue=0.002901297369164422)\n",
      "8.576287262872627\n",
      "7.097560975609756\n",
      "Effect size: -0.23254324683994232\n",
      "*** Test on SPECIFICITY vs MUTTESTGENERATOR ***\n",
      "WilcoxonResult(statistic=760.0, pvalue=0.0029860524032182287)\n",
      "8.685907859078592\n",
      "7.097560975609756\n",
      "Effect size: -0.2318532330221225\n"
     ]
    }
   ],
   "source": [
    "sizeACTS = df.loc[df['Generator'] == 'ACTS', 'Size'].values\n",
    "sizeSPEC = df.loc[df['Generator'] == 'SPECIFICITY_FMREDUCED', 'Size'].values\n",
    "sizeBDD = df.loc[df['Generator'] == 'BDD_FMREDUCED', 'Size'].values\n",
    "sizeMUTTESTGENERATOR = df.loc[df['Generator'] == 'MUTTESTGENERATOR', 'Size'].values\n",
    "# Test the difference between the two generators\n",
    "test(sizeACTS, sizeSPEC, \"ACTS vs SPECIFICITY\")\n",
    "test(sizeACTS, sizeBDD, \"ACTS vs BDD\")\n",
    "test(sizeACTS, sizeMUTTESTGENERATOR, \"ACTS vs MUTTESTGENERATOR\")\n",
    "test(sizeBDD, sizeSPEC, \"BDD vs SPECIFICITY\")\n",
    "test(sizeBDD, sizeMUTTESTGENERATOR, \"BDD vs MUTTESTGENERATOR\")\n",
    "test(sizeSPEC, sizeMUTTESTGENERATOR, \"SPECIFICITY vs MUTTESTGENERATOR\")"
   ]
  },
  {
   "cell_type": "markdown",
   "metadata": {},
   "source": [
    "### Tuples Covered"
   ]
  },
  {
   "cell_type": "code",
   "execution_count": 8,
   "metadata": {},
   "outputs": [
    {
     "name": "stdout",
     "output_type": "stream",
     "text": [
      "[1. 1. 1. 1. 1. 1. 1. 1. 1. 1. 1. 1. 1. 1. 1. 1. 1. 1. 1. 1. 1. 1. 1. 1.\n",
      " 1. 1. 1. 1. 1. 1. 1. 1. 1. 1. 1. 1. 1. 1. 1. 1. 1. 1. 1. 1. 1. 1. 1. 1.\n",
      " 1. 1. 1. 1. 1. 1. 1. 1. 1. 1. 1. 1. 1. 1. 1. 1. 1. 1. 1. 1. 1. 1. 1. 1.\n",
      " 1. 1. 1. 1. 1. 1. 1. 1. 1. 1.]\n",
      "*** Test on ACTS vs MUTTESTGENERATOR ***\n",
      "WilcoxonResult(statistic=0.0, pvalue=3.535344715819789e-15)\n",
      "1.0\n",
      "0.4612083706097561\n",
      "Effect size: -0.6145742877861664\n",
      "*** Test on BDD vs MUTTESTGENERATOR ***\n",
      "WilcoxonResult(statistic=0.0, pvalue=3.535344715819789e-15)\n",
      "1.0\n",
      "0.4612083706097561\n",
      "Effect size: -0.6145742877861664\n",
      "*** Test on SPECIFICITY vs MUTTESTGENERATOR ***\n",
      "WilcoxonResult(statistic=0.0, pvalue=3.535344715819789e-15)\n",
      "1.0\n",
      "0.4612083706097561\n",
      "Effect size: -0.6145742877861664\n"
     ]
    }
   ],
   "source": [
    "tpACTS = df.loc[df['Generator'] == 'ACTS', 'CombinatorialCoverage'].values\n",
    "tpSPEC = df.loc[df['Generator'] == 'SPECIFICITY_FMREDUCED', 'CombinatorialCoverage'].values\n",
    "tpBDD = df.loc[df['Generator'] == 'BDD_FMREDUCED', 'CombinatorialCoverage'].values\n",
    "tpMUTTESTGENERATOR = df.loc[df['Generator'] == 'MUTTESTGENERATOR', 'CombinatorialCoverage'].values\n",
    "# Test the difference between the two generators\n",
    "test(tpACTS, tpMUTTESTGENERATOR, \"ACTS vs MUTTESTGENERATOR\")\n",
    "test(tpBDD, tpMUTTESTGENERATOR, \"BDD vs MUTTESTGENERATOR\")\n",
    "test(tpSPEC, tpMUTTESTGENERATOR, \"SPECIFICITY vs MUTTESTGENERATOR\")"
   ]
  },
  {
   "cell_type": "markdown",
   "metadata": {},
   "source": [
    "## Box-Plots"
   ]
  },
  {
   "cell_type": "code",
   "execution_count": 9,
   "metadata": {},
   "outputs": [],
   "source": [
    "def box_plot(y1, y2, y3, y4, ylabel, xscale = 'log', plot_correspondence = False, scale = 1, showfliers = True):\n",
    "    plt.figure(figsize=(4,2.5))\n",
    "    sns.boxplot(data=[y1/scale, y2/scale, y3/scale, y4/scale], orient='h', showfliers = showfliers, showmeans=True, meanprops={\"marker\":\"o\",\"markerfacecolor\":\"red\", \"markeredgecolor\":\"white\"})\n",
    "    plt.xscale(xscale)\n",
    "    plt.yticks(range(4), labels=['ACTS', 'BDD', 'SPECGEN', 'MUTTESTGEN'])\n",
    "    plt.xlabel(ylabel)\n",
    "    plt.show()"
   ]
  },
  {
   "cell_type": "markdown",
   "metadata": {},
   "source": [
    "### Fault detection"
   ]
  },
  {
   "cell_type": "code",
   "execution_count": 10,
   "metadata": {},
   "outputs": [
    {
     "data": {
      "image/png": "[encoded data removed]",
      "text/plain": [
       "<Figure size 400x250 with 1 Axes>"
      ]
     },
     "metadata": {},
     "output_type": "display_data"
    }
   ],
   "source": [
    "box_plot(faultDetectionACTS, faultDetectionBDD, faultDetectionSPEC, faultDetectionMUTTESTGENERATOR, 'Fault Detection', xscale = 'linear', scale = 1, showfliers = False)"
   ]
  },
  {
   "cell_type": "markdown",
   "metadata": {},
   "source": [
    "### Specificity"
   ]
  },
  {
   "cell_type": "code",
   "execution_count": 11,
   "metadata": {},
   "outputs": [
    {
     "data": {
      "image/png": "[encoded data removed]",
      "text/plain": [
       "<Figure size 400x250 with 1 Axes>"
      ]
     },
     "metadata": {},
     "output_type": "display_data"
    }
   ],
   "source": [
    "box_plot(specificityACTS, specificityBDD, specificitySPEC, faultDetectionMUTTESTGENERATOR, 'Specificity', xscale = 'linear', scale = 1, showfliers = False)"
   ]
  },
  {
   "cell_type": "markdown",
   "metadata": {},
   "source": [
    "### Time"
   ]
  },
  {
   "cell_type": "code",
   "execution_count": 12,
   "metadata": {},
   "outputs": [
    {
     "data": {
      "image/png": "[encoded data removed]",
      "text/plain": [
       "<Figure size 400x250 with 1 Axes>"
      ]
     },
     "metadata": {},
     "output_type": "display_data"
    }
   ],
   "source": [
    "box_plot(timeACTS, timeBDD, timeSPEC, faultDetectionMUTTESTGENERATOR, 'Time', xscale = 'linear', scale = 1, showfliers = False)"
   ]
  },
  {
   "cell_type": "markdown",
   "metadata": {},
   "source": [
    "### Size"
   ]
  },
  {
   "cell_type": "code",
   "execution_count": 13,
   "metadata": {},
   "outputs": [
    {
     "data": {
      "image/png": "[encoded data removed]",
      "text/plain": [
       "<Figure size 400x250 with 1 Axes>"
      ]
     },
     "metadata": {},
     "output_type": "display_data"
    }
   ],
   "source": [
    "box_plot(sizeACTS, sizeBDD, sizeSPEC, faultDetectionMUTTESTGENERATOR, 'Size', xscale = 'linear', scale = 1, showfliers = False)"
   ]
  },
  {
   "cell_type": "markdown",
   "metadata": {},
   "source": [
    "### Tuples Covered"
   ]
  },
  {
   "cell_type": "code",
   "execution_count": 14,
   "metadata": {},
   "outputs": [
    {
     "data": {
      "image/png": "[encoded data removed]",
      "text/plain": [
       "<Figure size 400x250 with 1 Axes>"
      ]
     },
     "metadata": {},
     "output_type": "display_data"
    }
   ],
   "source": [
    "box_plot(tpACTS, tpBDD, tpSPEC, tpMUTTESTGENERATOR, 'Cov. Tuples', xscale = 'linear', scale = 1, showfliers = False)"
   ]
  }
 ],
 "metadata": {
  "kernelspec": {
   "display_name": "Python 3",
   "language": "python",
   "name": "python3"
  },
  "language_info": {
   "codemirror_mode": {
    "name": "ipython",
    "version": 3
   },
   "file_extension": ".py",
   "mimetype": "text/x-python",
   "name": "python",
   "nbconvert_exporter": "python",
   "pygments_lexer": "ipython3",
   "version": "3.11.3"
  },
  "orig_nbformat": 4
 },
 "nbformat": 4,
 "nbformat_minor": 2
}
