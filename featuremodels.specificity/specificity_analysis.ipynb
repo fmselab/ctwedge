{
 "cells": [
  {
   "cell_type": "markdown",
   "metadata": {},
   "source": [
    "## Libraries"
   ]
  },
  {
   "cell_type": "code",
   "execution_count": 5,
   "metadata": {},
   "outputs": [],
   "source": [
    "import pandas as pd\n",
    "import scipy.stats as stats\n",
    "import math\n",
    "import matplotlib.pyplot as plt\n",
    "import seaborn as sns"
   ]
  },
  {
   "cell_type": "markdown",
   "metadata": {},
   "source": [
    "## Load the data"
   ]
  },
  {
   "cell_type": "code",
   "execution_count": 6,
   "metadata": {},
   "outputs": [],
   "source": [
    "# Read the file resulsSPECIFICITY.csv into a pandas dataframe\n",
    "df = pd.read_csv('resultsSPECIFICITY.csv', delimiter=';')\n",
    "\n",
    "# Group the dataframe by OldFM, NewFM, Generator, and for the other columns compute the average\n",
    "df = df.groupby(['OldFM', 'NewFM', 'Generator']).mean()\n",
    "# Reset the index\n",
    "df = df.reset_index()"
   ]
  },
  {
   "cell_type": "markdown",
   "metadata": {},
   "source": [
    "## Wilcoxon-Signed Rank Tests"
   ]
  },
  {
   "cell_type": "code",
   "execution_count": 7,
   "metadata": {},
   "outputs": [],
   "source": [
    "def test(datax, datay, label):\n",
    "    test_times = stats.wilcoxon(datax, datay, alternative='two-sided', method='approx')\n",
    "    print (\"*** Test on \" + label + \" ***\")\n",
    "    print (test_times)\n",
    "    print (datax.mean())\n",
    "    print (datay.mean())\n",
    "    print (\"Effect size: \" + str(test_times.zstatistic / math.sqrt(len(datax) + len(datay))))"
   ]
  },
  {
   "cell_type": "markdown",
   "metadata": {},
   "source": [
    "### Fault detection"
   ]
  },
  {
   "cell_type": "code",
   "execution_count": 8,
   "metadata": {},
   "outputs": [
    {
     "name": "stdout",
     "output_type": "stream",
     "text": [
      "*** Test on ACTS vs SPECIFICITY ***\n",
      "WilcoxonResult(statistic=212.5, pvalue=0.6807397890199813)\n",
      "0.7405420968292683\n",
      "0.7401427156829268\n",
      "Effect size: -0.032129146270932815\n",
      "*** Test on ACTS vs BDD ***\n",
      "WilcoxonResult(statistic=167.0, pvalue=0.8290451668985259)\n",
      "0.7405420968292683\n",
      "0.7401633530975611\n",
      "Effect size: -0.016861014217054663\n",
      "*** Test on ACTS vs MUTFMTG ***\n",
      "WilcoxonResult(statistic=145.5, pvalue=0.29577338517929974)\n",
      "0.7405420968292683\n",
      "0.7405488815853659\n",
      "Effect size: -0.08164297074056429\n",
      "*** Test on ACTS vs INCLING ***\n",
      "WilcoxonResult(statistic=176.5, pvalue=0.7638892154528952)\n",
      "0.7405420968292683\n",
      "0.7401181006341463\n",
      "Effect size: -0.02345554296951612\n",
      "*** Test on ACTS vs GFE ***\n",
      "WilcoxonResult(statistic=231.0, pvalue=0.7389551959571066)\n",
      "0.7405420968292683\n",
      "0.7402017228658537\n",
      "Effect size: -0.0260214580922989\n",
      "*** Test on BDD vs SPECIFICITY ***\n",
      "WilcoxonResult(statistic=205.5, pvalue=0.4047132051294021)\n",
      "0.7401633530975611\n",
      "0.7401427156829268\n",
      "Effect size: -0.06506458400060597\n",
      "*** Test on BDD vs MUTFMTG ***\n",
      "WilcoxonResult(statistic=165.5, pvalue=0.2605199851960974)\n",
      "0.7401633530975611\n",
      "0.7405488815853659\n",
      "Effect size: -0.0878604662056921\n",
      "*** Test on BDD vs INCLING ***\n",
      "WilcoxonResult(statistic=227.0, pvalue=0.9099141638942861)\n",
      "0.7401633530975611\n",
      "0.7401181006341463\n",
      "Effect size: -0.008835281514722865\n",
      "*** Test on BDD vs GFE ***\n",
      "WilcoxonResult(statistic=190.0, pvalue=0.7671643409769424)\n",
      "0.7401633530975611\n",
      "0.7402017228658537\n",
      "Effect size: -0.02312043880721848\n",
      "*** Test on SPECIFICITY vs MUTFMTG ***\n",
      "WilcoxonResult(statistic=245.5, pvalue=0.7293438845711264)\n",
      "0.7401427156829268\n",
      "0.7405488815853659\n",
      "Effect size: -0.027017939255878917\n",
      "*** Test on SPECIFICITY vs INCLING ***\n",
      "WilcoxonResult(statistic=175.0, pvalue=0.5235726532306928)\n",
      "0.7401427156829268\n",
      "0.7401181006341463\n",
      "Effect size: -0.049807558072451796\n",
      "*** Test on SPECIFICITY vs GFE ***\n",
      "WilcoxonResult(statistic=211.5, pvalue=0.4743124978326928)\n",
      "0.7401427156829268\n",
      "0.7402017228658537\n",
      "Effect size: -0.05586960119817116\n",
      "*** Test on MUTFMTG vs INCLING ***\n",
      "WilcoxonResult(statistic=243.5, pvalue=0.7014329017334553)\n",
      "0.7405488815853659\n",
      "0.7401181006341463\n",
      "Effect size: -0.029937488610864208\n",
      "*** Test on MUTFMTG vs GFE ***\n",
      "WilcoxonResult(statistic=215.5, pvalue=0.5240286146790285)\n",
      "0.7405488815853659\n",
      "0.7402017228658537\n",
      "Effect size: -0.04975287970420923\n",
      "*** Test on INCLING VS GFE ***\n",
      "WilcoxonResult(statistic=224.0, pvalue=0.8611761809896794)\n",
      "0.7401181006341463\n",
      "0.7402017228658537\n",
      "Effect size: -0.013655609626836597\n"
     ]
    }
   ],
   "source": [
    "faultDetectionACTS = df.loc[df['Generator'] == 'ACTS', 'FaultDetection'].values\n",
    "faultDetectionSPEC = df.loc[df['Generator'] == 'SPECIFICITY_FMREDUCED', 'FaultDetection'].values\n",
    "faultDetectionBDD = df.loc[df['Generator'] == 'BDD_FMREDUCED', 'FaultDetection'].values\n",
    "faultDetectionMUTFMTG = df.loc[df['Generator'] == 'MUTTESTGENERATOR', 'FaultDetection'].values\n",
    "faultDetectionINCLING = df.loc[df['Generator'] == 'INCLING', 'FaultDetection'].values\n",
    "faultDetectionGFE = df.loc[df['Generator'] == 'GFE', 'FaultDetection'].values\n",
    "# Test the difference between the generators\n",
    "test(faultDetectionACTS, faultDetectionSPEC, \"ACTS vs SPECIFICITY\")\n",
    "test(faultDetectionACTS, faultDetectionBDD, \"ACTS vs BDD\")\n",
    "test(faultDetectionACTS, faultDetectionMUTFMTG, \"ACTS vs MUTFMTG\")\n",
    "test(faultDetectionACTS, faultDetectionINCLING, \"ACTS vs INCLING\")\n",
    "test(faultDetectionACTS, faultDetectionGFE, \"ACTS vs GFE\")\n",
    "test(faultDetectionBDD, faultDetectionSPEC, \"BDD vs SPECIFICITY\")\n",
    "test(faultDetectionBDD, faultDetectionMUTFMTG, \"BDD vs MUTFMTG\")\n",
    "test(faultDetectionBDD, faultDetectionINCLING, \"BDD vs INCLING\")\n",
    "test(faultDetectionBDD, faultDetectionGFE, \"BDD vs GFE\")\n",
    "test(faultDetectionSPEC, faultDetectionMUTFMTG, \"SPECIFICITY vs MUTFMTG\")\n",
    "test(faultDetectionSPEC, faultDetectionINCLING, \"SPECIFICITY vs INCLING\")\n",
    "test(faultDetectionSPEC, faultDetectionGFE, \"SPECIFICITY vs GFE\")\n",
    "test(faultDetectionMUTFMTG, faultDetectionINCLING, \"MUTFMTG vs INCLING\")\n",
    "test(faultDetectionMUTFMTG, faultDetectionGFE, \"MUTFMTG vs GFE\")\n",
    "test(faultDetectionINCLING, faultDetectionGFE, \"INCLING VS GFE\")"
   ]
  },
  {
   "cell_type": "markdown",
   "metadata": {},
   "source": [
    "### Specificity"
   ]
  },
  {
   "cell_type": "code",
   "execution_count": 9,
   "metadata": {},
   "outputs": [
    {
     "name": "stdout",
     "output_type": "stream",
     "text": [
      "*** Test on ACTS vs SPECIFICITY ***\n",
      "WilcoxonResult(statistic=0.0, pvalue=2.6987022409679446e-05)\n",
      "0.4820944640975609\n",
      "0.5315448640609757\n",
      "Effect size: -0.32777017000922704\n",
      "*** Test on ACTS vs BDD ***\n",
      "WilcoxonResult(statistic=63.0, pvalue=0.03924880796096683)\n",
      "0.4820944640975609\n",
      "0.4996302654817073\n",
      "Effect size: -0.16098147666797008\n",
      "*** Test on ACTS vs MUTFMTG ***\n",
      "WilcoxonResult(statistic=254.5, pvalue=0.46178950128527485)\n",
      "0.4820944640975609\n",
      "0.491289201097561\n",
      "Effect size: -0.057464399474557275\n",
      "*** Test on ACTS vs INCLING ***\n",
      "WilcoxonResult(statistic=9.5, pvalue=0.004030631626533845)\n",
      "0.4820944640975609\n",
      "0.5038305215853658\n",
      "Effect size: -0.22455869348519364\n",
      "*** Test on ACTS vs GFE ***\n",
      "WilcoxonResult(statistic=83.0, pvalue=0.1578472757017091)\n",
      "0.4820944640975609\n",
      "0.4700147623243902\n",
      "Effect size: -0.1102859148220696\n",
      "*** Test on BDD vs SPECIFICITY ***\n",
      "WilcoxonResult(statistic=5.5, pvalue=5.572601849608782e-05)\n",
      "0.4996302654817073\n",
      "0.5315448640609757\n",
      "Effect size: -0.3147068661320477\n",
      "*** Test on BDD vs MUTFMTG ***\n",
      "WilcoxonResult(statistic=252.0, pvalue=0.43646537709366684)\n",
      "0.4996302654817073\n",
      "0.491289201097561\n",
      "Effect size: -0.06076532160684663\n",
      "*** Test on BDD vs INCLING ***\n",
      "WilcoxonResult(statistic=119.5, pvalue=0.38349592261766274)\n",
      "0.4996302654817073\n",
      "0.5038305215853658\n",
      "Effect size: -0.06805061116713962\n",
      "*** Test on BDD vs GFE ***\n",
      "WilcoxonResult(statistic=72.0, pvalue=0.07683082485338033)\n",
      "0.4996302654817073\n",
      "0.4700147623243902\n",
      "Effect size: -0.1381652043843208\n",
      "*** Test on SPECIFICITY vs MUTFMTG ***\n",
      "WilcoxonResult(statistic=166.0, pvalue=0.024509015317484704)\n",
      "0.5315448640609757\n",
      "0.491289201097561\n",
      "Effect size: -0.17562166761478107\n",
      "*** Test on SPECIFICITY vs INCLING ***\n",
      "WilcoxonResult(statistic=0.0, pvalue=2.6987022409679446e-05)\n",
      "0.5315448640609757\n",
      "0.5038305215853658\n",
      "Effect size: -0.32777017000922704\n",
      "*** Test on SPECIFICITY vs GFE ***\n",
      "WilcoxonResult(statistic=0.0, pvalue=2.7015948487105505e-05)\n",
      "0.5315448640609757\n",
      "0.4700147623243902\n",
      "Effect size: -0.32775121882711133\n",
      "*** Test on MUTFMTG vs INCLING ***\n",
      "WilcoxonResult(statistic=230.0, pvalue=0.24801835365778802)\n",
      "0.491289201097561\n",
      "0.5038305215853658\n",
      "Effect size: -0.09020409213352855\n",
      "*** Test on MUTFMTG vs GFE ***\n",
      "WilcoxonResult(statistic=274.0, pvalue=0.6877465997690255)\n",
      "0.491289201097561\n",
      "0.4700147623243902\n",
      "Effect size: -0.03138428698375595\n",
      "*** Test on INCLING VS GFE ***\n",
      "WilcoxonResult(statistic=47.5, pvalue=0.0034019633468190895)\n",
      "0.5038305215853658\n",
      "0.4700147623243902\n",
      "Effect size: -0.22870634705290124\n"
     ]
    }
   ],
   "source": [
    "specificityACTS = df.loc[df['Generator'] == 'ACTS', 'Specificity'].values\n",
    "specificitySPEC = df.loc[df['Generator'] == 'SPECIFICITY_FMREDUCED', 'Specificity'].values\n",
    "specificityBDD = df.loc[df['Generator'] == 'BDD_FMREDUCED', 'Specificity'].values\n",
    "specificityMUTFMTG = df.loc[df['Generator'] == 'MUTTESTGENERATOR', 'Specificity'].values\n",
    "specificityINCLING = df.loc[df['Generator'] == 'INCLING', 'Specificity'].values\n",
    "specificityGFE = df.loc[df['Generator'] == 'GFE', 'Specificity'].values\n",
    "# Test the difference between the generators\n",
    "test(specificityACTS, specificitySPEC, \"ACTS vs SPECIFICITY\")\n",
    "test(specificityACTS, specificityBDD, \"ACTS vs BDD\")\n",
    "test(specificityACTS, specificityMUTFMTG, \"ACTS vs MUTFMTG\")\n",
    "test(specificityACTS, specificityINCLING, \"ACTS vs INCLING\")\n",
    "test(specificityACTS, specificityGFE, \"ACTS vs GFE\")\n",
    "test(specificityBDD, specificitySPEC, \"BDD vs SPECIFICITY\")\n",
    "test(specificityBDD, specificityMUTFMTG, \"BDD vs MUTFMTG\")\n",
    "test(specificityBDD, specificityINCLING, \"BDD vs INCLING\")\n",
    "test(specificityBDD, specificityGFE, \"BDD vs GFE\")\n",
    "test(specificitySPEC, specificityMUTFMTG, \"SPECIFICITY vs MUTFMTG\")\n",
    "test(specificitySPEC, specificityINCLING, \"SPECIFICITY vs INCLING\")\n",
    "test(specificitySPEC, specificityGFE, \"SPECIFICITY vs GFE\")\n",
    "test(specificityMUTFMTG, specificityINCLING, \"MUTFMTG vs INCLING\")\n",
    "test(specificityMUTFMTG, specificityGFE, \"MUTFMTG vs GFE\")\n",
    "test(specificityINCLING, specificityGFE, \"INCLING VS GFE\")"
   ]
  },
  {
   "cell_type": "code",
   "execution_count": 10,
   "metadata": {},
   "outputs": [],
   "source": [
    "specificTestsACTS = df.loc[df['Generator'] == 'ACTS', 'NSpecificTests'].values\n",
    "specificTestsSPEC = df.loc[df['Generator'] == 'SPECIFICITY_FMREDUCED', 'NSpecificTests'].values\n",
    "specificTestsBDD = df.loc[df['Generator'] == 'BDD_FMREDUCED', 'NSpecificTests'].values\n",
    "specificTestsMUTFMTG = df.loc[df['Generator'] == 'MUTTESTGENERATOR', 'NSpecificTests'].values\n",
    "specificTestsINCLING = df.loc[df['Generator'] == 'INCLING', 'NSpecificTests'].values\n",
    "specificTestsGFE = df.loc[df['Generator'] == 'GFE', 'NSpecificTests'].values"
   ]
  },
  {
   "cell_type": "markdown",
   "metadata": {},
   "source": [
    "### Time"
   ]
  },
  {
   "cell_type": "code",
   "execution_count": 11,
   "metadata": {},
   "outputs": [
    {
     "name": "stdout",
     "output_type": "stream",
     "text": [
      "*** Test on ACTS vs SPECIFICITY ***\n",
      "WilcoxonResult(statistic=0.0, pvalue=3.662968407211321e-15)\n",
      "125.9378048780488\n",
      "26.77560975609756\n",
      "Effect size: -0.6142277679175001\n",
      "*** Test on ACTS vs BDD ***\n",
      "WilcoxonResult(statistic=0.0, pvalue=3.663583406673553e-15)\n",
      "125.9378048780488\n",
      "45.69024390243903\n",
      "Effect size: -0.6142261270385183\n",
      "*** Test on ACTS vs MUTFMTG ***\n",
      "WilcoxonResult(statistic=0.0, pvalue=3.662660943750367e-15)\n",
      "125.9378048780488\n",
      "26.32560975609756\n",
      "Effect size: -0.6142285883619224\n",
      "*** Test on ACTS vs INCLING ***\n",
      "WilcoxonResult(statistic=0.0, pvalue=3.663275894851821e-15)\n",
      "125.9378048780488\n",
      "7.753658536585367\n",
      "Effect size: -0.6142269474763654\n",
      "*** Test on ACTS vs GFE ***\n",
      "WilcoxonResult(statistic=0.0, pvalue=3.662968407211321e-15)\n",
      "125.9378048780488\n",
      "5.626829268292683\n",
      "Effect size: -0.6142277679175001\n",
      "*** Test on BDD vs SPECIFICITY ***\n",
      "WilcoxonResult(statistic=9.0, pvalue=5.1029935601223514e-15)\n",
      "45.69024390243903\n",
      "26.77560975609756\n",
      "Effect size: -0.6109788405526705\n",
      "*** Test on BDD vs MUTFMTG ***\n",
      "WilcoxonResult(statistic=0.0, pvalue=3.6623535044671176e-15)\n",
      "45.69024390243903\n",
      "26.32560975609756\n",
      "Effect size: -0.6142294088096325\n",
      "*** Test on BDD vs INCLING ***\n",
      "WilcoxonResult(statistic=17.0, pvalue=6.8427674268920555e-15)\n",
      "45.69024390243903\n",
      "7.753658536585367\n",
      "Effect size: -0.6080900928733103\n",
      "*** Test on BDD vs GFE ***\n",
      "WilcoxonResult(statistic=0.0, pvalue=3.663275894851821e-15)\n",
      "45.69024390243903\n",
      "5.626829268292683\n",
      "Effect size: -0.6142269474763654\n",
      "*** Test on SPECIFICITY vs MUTFMTG ***\n",
      "WilcoxonResult(statistic=1470.0, pvalue=0.47184502370980563)\n",
      "26.77560975609756\n",
      "26.32560975609756\n",
      "Effect size: -0.05618197408821982\n",
      "*** Test on SPECIFICITY vs INCLING ***\n",
      "WilcoxonResult(statistic=53.0, pvalue=2.5178137617563376e-14)\n",
      "26.77560975609756\n",
      "7.753658536585367\n",
      "Effect size: -0.5950975803327352\n",
      "*** Test on SPECIFICITY vs GFE ***\n",
      "WilcoxonResult(statistic=0.0, pvalue=3.662046089359831e-15)\n",
      "26.77560975609756\n",
      "5.626829268292683\n",
      "Effect size: -0.6142302292606302\n",
      "*** Test on MUTFMTG vs INCLING ***\n",
      "WilcoxonResult(statistic=60.5, pvalue=3.29181992674212e-14)\n",
      "26.32560975609756\n",
      "7.753658536585367\n",
      "Effect size: -0.59239013001275\n",
      "*** Test on MUTFMTG vs GFE ***\n",
      "WilcoxonResult(statistic=0.0, pvalue=3.662968407211321e-15)\n",
      "26.32560975609756\n",
      "5.626829268292683\n",
      "Effect size: -0.6142277679175001\n",
      "*** Test on INCLING VS GFE ***\n",
      "WilcoxonResult(statistic=308.0, pvalue=1.17663632681838e-10)\n",
      "7.753658536585367\n",
      "5.626829268292683\n",
      "Effect size: -0.5030603967160545\n"
     ]
    }
   ],
   "source": [
    "timeACTS = df.loc[df['Generator'] == 'ACTS', 'Time'].values\n",
    "timeSPEC = df.loc[df['Generator'] == 'SPECIFICITY_FMREDUCED', 'Time'].values\n",
    "timeBDD = df.loc[df['Generator'] == 'BDD_FMREDUCED', 'Time'].values\n",
    "timeMUTFMTG = df.loc[df['Generator'] == 'MUTTESTGENERATOR', 'Time'].values\n",
    "timeINCLING = df.loc[df['Generator'] == 'INCLING', 'Time'].values\n",
    "timeGFE = df.loc[df['Generator'] == 'GFE', 'Time'].values\n",
    "# Test the difference between the generators\n",
    "test(timeACTS, timeSPEC, \"ACTS vs SPECIFICITY\")\n",
    "test(timeACTS, timeBDD, \"ACTS vs BDD\")\n",
    "test(timeACTS, timeMUTFMTG, \"ACTS vs MUTFMTG\")\n",
    "test(timeACTS, timeINCLING, \"ACTS vs INCLING\")\n",
    "test(timeACTS, timeGFE, \"ACTS vs GFE\")\n",
    "test(timeBDD, timeSPEC, \"BDD vs SPECIFICITY\")\n",
    "test(timeBDD, timeMUTFMTG, \"BDD vs MUTFMTG\")\n",
    "test(timeBDD, timeINCLING, \"BDD vs INCLING\")\n",
    "test(timeBDD, timeGFE, \"BDD vs GFE\")\n",
    "test(timeSPEC, timeMUTFMTG, \"SPECIFICITY vs MUTFMTG\")\n",
    "test(timeSPEC, timeINCLING, \"SPECIFICITY vs INCLING\")\n",
    "test(timeSPEC, timeGFE, \"SPECIFICITY vs GFE\")\n",
    "test(timeMUTFMTG, timeINCLING, \"MUTFMTG vs INCLING\")\n",
    "test(timeMUTFMTG, timeGFE, \"MUTFMTG vs GFE\")\n",
    "test(timeINCLING, timeGFE, \"INCLING VS GFE\")"
   ]
  },
  {
   "cell_type": "markdown",
   "metadata": {},
   "source": [
    "### Size"
   ]
  },
  {
   "cell_type": "code",
   "execution_count": 12,
   "metadata": {},
   "outputs": [
    {
     "name": "stdout",
     "output_type": "stream",
     "text": [
      "*** Test on ACTS vs SPECIFICITY ***\n",
      "WilcoxonResult(statistic=595.0, pvalue=0.3916335157315234)\n",
      "8.475609756097562\n",
      "8.680487804878048\n",
      "Effect size: -0.06689380855285429\n",
      "*** Test on ACTS vs BDD ***\n",
      "WilcoxonResult(statistic=625.5, pvalue=0.7248192164951044)\n",
      "8.475609756097562\n",
      "8.557317073170733\n",
      "Effect size: -0.027488565211014303\n",
      "*** Test on ACTS vs MUTFMTG ***\n",
      "WilcoxonResult(statistic=713.0, pvalue=0.0011662052575471718)\n",
      "8.475609756097562\n",
      "7.097560975609756\n",
      "Effect size: -0.25354960101138146\n",
      "*** Test on ACTS vs INCLING ***\n",
      "WilcoxonResult(statistic=177.0, pvalue=0.008714571081501227)\n",
      "8.475609756097562\n",
      "8.731707317073171\n",
      "Effect size: -0.20482602857002305\n",
      "*** Test on ACTS vs GFE ***\n",
      "WilcoxonResult(statistic=394.0, pvalue=0.018386641152818732)\n",
      "8.475609756097562\n",
      "8.295121951219512\n",
      "Effect size: -0.18410844376827004\n",
      "*** Test on BDD vs SPECIFICITY ***\n",
      "WilcoxonResult(statistic=313.0, pvalue=0.033507551585290736)\n",
      "8.557317073170733\n",
      "8.680487804878048\n",
      "Effect size: -0.16600868396377266\n",
      "*** Test on BDD vs MUTFMTG ***\n",
      "WilcoxonResult(statistic=762.0, pvalue=0.0030952848378885617)\n",
      "8.557317073170733\n",
      "7.097560975609756\n",
      "Effect size: -0.2309898293046403\n",
      "*** Test on BDD vs INCLING ***\n",
      "WilcoxonResult(statistic=512.0, pvalue=0.10667469425006357)\n",
      "8.557317073170733\n",
      "8.731707317073171\n",
      "Effect size: -0.12597923800898259\n",
      "*** Test on BDD vs GFE ***\n",
      "WilcoxonResult(statistic=307.0, pvalue=0.0065049932504764475)\n",
      "8.557317073170733\n",
      "8.295121951219512\n",
      "Effect size: -0.21248821984993324\n",
      "*** Test on SPECIFICITY vs MUTFMTG ***\n",
      "WilcoxonResult(statistic=758.5, pvalue=0.00290297665439022)\n",
      "8.680487804878048\n",
      "7.097560975609756\n",
      "Effect size: -0.232529397688728\n",
      "*** Test on SPECIFICITY vs INCLING ***\n",
      "WilcoxonResult(statistic=683.5, pvalue=0.4683471973513559)\n",
      "8.680487804878048\n",
      "8.731707317073171\n",
      "Effect size: -0.05662633315246756\n",
      "*** Test on SPECIFICITY vs GFE ***\n",
      "WilcoxonResult(statistic=340.0, pvalue=0.0014762974240803)\n",
      "8.680487804878048\n",
      "8.295121951219512\n",
      "Effect size: -0.24826184550349317\n",
      "*** Test on MUTFMTG vs INCLING ***\n",
      "WilcoxonResult(statistic=712.5, pvalue=0.00297183278455147)\n",
      "7.097560975609756\n",
      "8.731707317073171\n",
      "Effect size: -0.23196774081820615\n",
      "*** Test on MUTFMTG vs GFE ***\n",
      "WilcoxonResult(statistic=810.0, pvalue=0.007285311042047734)\n",
      "7.097560975609756\n",
      "8.295121951219512\n",
      "Effect size: -0.20954717173747378\n",
      "*** Test on INCLING VS GFE ***\n",
      "WilcoxonResult(statistic=250.5, pvalue=6.246121868532821e-05)\n",
      "8.731707317073171\n",
      "8.295121951219512\n",
      "Effect size: -0.31260633124569154\n"
     ]
    }
   ],
   "source": [
    "sizeACTS = df.loc[df['Generator'] == 'ACTS', 'Size'].values\n",
    "sizeSPEC = df.loc[df['Generator'] == 'SPECIFICITY_FMREDUCED', 'Size'].values\n",
    "sizeBDD = df.loc[df['Generator'] == 'BDD_FMREDUCED', 'Size'].values\n",
    "sizeMUTFMTG = df.loc[df['Generator'] == 'MUTTESTGENERATOR', 'Size'].values\n",
    "sizeINCLING = df.loc[df['Generator'] == 'INCLING', 'Size'].values\n",
    "sizeGFE = df.loc[df['Generator'] == 'GFE', 'Size'].values\n",
    "# Test the difference between the generators\n",
    "test(sizeACTS, sizeSPEC, \"ACTS vs SPECIFICITY\")\n",
    "test(sizeACTS, sizeBDD, \"ACTS vs BDD\")\n",
    "test(sizeACTS, sizeMUTFMTG, \"ACTS vs MUTFMTG\")\n",
    "test(sizeACTS, sizeINCLING, \"ACTS vs INCLING\")\n",
    "test(sizeACTS, sizeGFE, \"ACTS vs GFE\")\n",
    "test(sizeBDD, sizeSPEC, \"BDD vs SPECIFICITY\")\n",
    "test(sizeBDD, sizeMUTFMTG, \"BDD vs MUTFMTG\")\n",
    "test(sizeBDD, sizeINCLING, \"BDD vs INCLING\")\n",
    "test(sizeBDD, sizeGFE, \"BDD vs GFE\")\n",
    "test(sizeSPEC, sizeMUTFMTG, \"SPECIFICITY vs MUTFMTG\")\n",
    "test(sizeSPEC, sizeINCLING, \"SPECIFICITY vs INCLING\")\n",
    "test(sizeSPEC, sizeGFE, \"SPECIFICITY vs GFE\")\n",
    "test(sizeMUTFMTG, sizeINCLING, \"MUTFMTG vs INCLING\")\n",
    "test(sizeMUTFMTG, sizeGFE, \"MUTFMTG vs GFE\")\n",
    "test(sizeINCLING, sizeGFE, \"INCLING VS GFE\")"
   ]
  },
  {
   "cell_type": "markdown",
   "metadata": {},
   "source": [
    "### Tuples Covered"
   ]
  },
  {
   "cell_type": "code",
   "execution_count": 13,
   "metadata": {},
   "outputs": [
    {
     "name": "stdout",
     "output_type": "stream",
     "text": [
      "*** Test on ACTS vs MUTFMTG ***\n",
      "WilcoxonResult(statistic=0.0, pvalue=3.5291038980355267e-15)\n",
      "1.0\n",
      "0.4612083706097561\n",
      "Effect size: -0.6145915469879835\n",
      "*** Test on BDD vs MUTFMTG ***\n",
      "WilcoxonResult(statistic=0.0, pvalue=3.5291038980355267e-15)\n",
      "1.0\n",
      "0.4612083706097561\n",
      "Effect size: -0.6145915469879835\n",
      "*** Test on SPECIFICITY vs MUTFMTG ***\n",
      "WilcoxonResult(statistic=0.0, pvalue=3.5291038980355267e-15)\n",
      "1.0\n",
      "0.4612083706097561\n",
      "Effect size: -0.6145915469879835\n",
      "*** Test on INCLING vs MUTFMTG ***\n",
      "WilcoxonResult(statistic=0.0, pvalue=3.5291038980355267e-15)\n",
      "1.0\n",
      "0.4612083706097561\n",
      "Effect size: -0.6145915469879835\n",
      "*** Test on GFE vs MUTFMTG ***\n",
      "WilcoxonResult(statistic=0.0, pvalue=3.5291038980355267e-15)\n",
      "1.0\n",
      "0.4612083706097561\n",
      "Effect size: -0.6145915469879835\n"
     ]
    }
   ],
   "source": [
    "tpACTS = df.loc[df['Generator'] == 'ACTS', 'CombinatorialCoverage'].values\n",
    "tpSPEC = df.loc[df['Generator'] == 'SPECIFICITY_FMREDUCED', 'CombinatorialCoverage'].values\n",
    "tpBDD = df.loc[df['Generator'] == 'BDD_FMREDUCED', 'CombinatorialCoverage'].values\n",
    "tpMUTFMTG = df.loc[df['Generator'] == 'MUTTESTGENERATOR', 'CombinatorialCoverage'].values\n",
    "tpINCLING = df.loc[df['Generator'] == 'INCLING', 'CombinatorialCoverage'].values\n",
    "tpGFE = df.loc[df['Generator'] == 'GFE', 'CombinatorialCoverage'].values\n",
    "# Test the difference between the two generators\n",
    "test(tpACTS, tpMUTFMTG, \"ACTS vs MUTFMTG\")\n",
    "test(tpBDD, tpMUTFMTG, \"BDD vs MUTFMTG\")\n",
    "test(tpSPEC, tpMUTFMTG, \"SPECIFICITY vs MUTFMTG\")\n",
    "test(tpINCLING, tpMUTFMTG, \"INCLING vs MUTFMTG\")\n",
    "test(tpGFE, tpMUTFMTG, \"GFE vs MUTFMTG\")"
   ]
  },
  {
   "cell_type": "markdown",
   "metadata": {},
   "source": [
    "## Box-Plots"
   ]
  },
  {
   "cell_type": "code",
   "execution_count": 14,
   "metadata": {},
   "outputs": [],
   "source": [
    "def box_plot(y1, y2, y3, y4, y5, y6, ylabel, xscale = 'log', plot_correspondence = False, scale = 1, showfliers = True):\n",
    "    plt.figure(figsize=(4,1.5))\n",
    "    sns.boxplot(data=[y1/scale, y2/scale, y3/scale, y4/scale, y5/scale, y6/scale], orient='h', showfliers = showfliers, showmeans=True, meanprops={\"marker\":\"o\",\"markerfacecolor\":\"red\", \"markeredgecolor\":\"white\"})\n",
    "    plt.xscale(xscale)\n",
    "    plt.yticks(range(6), labels=['ACTS', 'INCLING', 'BDDGEN', 'SPECGEN', 'MUTFMTG', 'GFE'])\n",
    "    plt.xlabel(ylabel)\n",
    "    plt.savefig(\"imgs/\" + ylabel + '.pdf', bbox_inches='tight')\n",
    "    plt.show()"
   ]
  },
  {
   "cell_type": "markdown",
   "metadata": {},
   "source": [
    "### Fault detection"
   ]
  },
  {
   "cell_type": "code",
   "execution_count": 15,
   "metadata": {},
   "outputs": [
    {
     "data": {
      "image/png": "[encoded data removed]",
      "text/plain": [
       "<Figure size 400x150 with 1 Axes>"
      ]
     },
     "metadata": {},
     "output_type": "display_data"
    }
   ],
   "source": [
    "box_plot(faultDetectionACTS, faultDetectionINCLING, faultDetectionBDD, faultDetectionSPEC, faultDetectionMUTFMTG, faultDetectionGFE, 'Fault Detection', xscale = 'linear', scale = 1, showfliers = False)"
   ]
  },
  {
   "cell_type": "markdown",
   "metadata": {},
   "source": [
    "### Specificity"
   ]
  },
  {
   "cell_type": "code",
   "execution_count": 16,
   "metadata": {},
   "outputs": [
    {
     "data": {
      "image/png": "[encoded data removed]",
      "text/plain": [
       "<Figure size 400x150 with 1 Axes>"
      ]
     },
     "metadata": {},
     "output_type": "display_data"
    }
   ],
   "source": [
    "box_plot(specificityACTS, specificityINCLING, specificityBDD, specificitySPEC, specificityMUTFMTG, specificityGFE, 'Specificity', xscale = 'linear', scale = 1, showfliers = False)"
   ]
  },
  {
   "cell_type": "code",
   "execution_count": 17,
   "metadata": {},
   "outputs": [
    {
     "data": {
      "image/png": "[encoded data removed]",
      "text/plain": [
       "<Figure size 400x150 with 1 Axes>"
      ]
     },
     "metadata": {},
     "output_type": "display_data"
    }
   ],
   "source": [
    "box_plot(specificTestsACTS, specificTestsINCLING, specificTestsBDD, specificTestsSPEC, specificTestsMUTFMTG, specificTestsGFE, '# of Specific Tests', xscale = 'linear', scale = 1, showfliers = False)"
   ]
  },
  {
   "cell_type": "markdown",
   "metadata": {},
   "source": [
    "### Time"
   ]
  },
  {
   "cell_type": "code",
   "execution_count": 18,
   "metadata": {},
   "outputs": [
    {
     "data": {
      "image/png": "[encoded data removed]",
      "text/plain": [
       "<Figure size 400x150 with 1 Axes>"
      ]
     },
     "metadata": {},
     "output_type": "display_data"
    }
   ],
   "source": [
    "box_plot(timeACTS, timeINCLING, timeBDD, timeSPEC, timeMUTFMTG, timeGFE, 'Time', xscale = 'linear', scale = 1, showfliers = False)"
   ]
  },
  {
   "cell_type": "markdown",
   "metadata": {},
   "source": [
    "### Size"
   ]
  },
  {
   "cell_type": "code",
   "execution_count": 19,
   "metadata": {},
   "outputs": [
    {
     "data": {
      "image/png": "[encoded data removed]",
      "text/plain": [
       "<Figure size 400x150 with 1 Axes>"
      ]
     },
     "metadata": {},
     "output_type": "display_data"
    }
   ],
   "source": [
    "box_plot(sizeACTS, sizeINCLING, sizeBDD, sizeSPEC, sizeMUTFMTG, sizeGFE, 'Size', xscale = 'linear', scale = 1, showfliers = False)"
   ]
  },
  {
   "cell_type": "markdown",
   "metadata": {},
   "source": [
    "### Tuples Covered"
   ]
  },
  {
   "cell_type": "code",
   "execution_count": 20,
   "metadata": {},
   "outputs": [
    {
     "data": {
      "image/png": "[encoded data removed]",
      "text/plain": [
       "<Figure size 400x150 with 1 Axes>"
      ]
     },
     "metadata": {},
     "output_type": "display_data"
    }
   ],
   "source": [
    "box_plot(tpACTS, tpINCLING, tpBDD, tpSPEC, tpMUTFMTG, tpGFE, 'Cov. Tuples', xscale = 'linear', scale = 1, showfliers = False)"
   ]
  }
 ],
 "metadata": {
  "kernelspec": {
   "display_name": "Python 3",
   "language": "python",
   "name": "python3"
  },
  "language_info": {
   "codemirror_mode": {
    "name": "ipython",
    "version": 3
   },
   "file_extension": ".py",
   "mimetype": "text/x-python",
   "name": "python",
   "nbconvert_exporter": "python",
   "pygments_lexer": "ipython3",
   "version": "3.11.3"
  },
  "orig_nbformat": 4
 },
 "nbformat": 4,
 "nbformat_minor": 2
}
