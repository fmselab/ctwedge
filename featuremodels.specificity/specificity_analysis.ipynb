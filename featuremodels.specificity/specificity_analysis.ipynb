{
 "cells": [
  {
   "cell_type": "markdown",
   "metadata": {},
   "source": [
    "## Libraries"
   ]
  },
  {
   "cell_type": "code",
   "execution_count": 114,
   "metadata": {},
   "outputs": [],
   "source": [
    "import pandas as pd\n",
    "import scipy.stats as stats\n",
    "import math\n",
    "import matplotlib.pyplot as plt\n",
    "import seaborn as sns"
   ]
  },
  {
   "cell_type": "markdown",
   "metadata": {},
   "source": [
    "## Load the data"
   ]
  },
  {
   "cell_type": "code",
   "execution_count": 115,
   "metadata": {},
   "outputs": [],
   "source": [
    "# Read the file resulsSPECIFICITY.csv into a pandas dataframe\n",
    "df = pd.read_csv('resultsSPECIFICITY.csv', delimiter=';')\n",
    "\n",
    "# Group the dataframe by OldFM, NewFM, Generator, and for the other columns compute the average\n",
    "df = df.groupby(['OldFM', 'NewFM', 'Generator']).mean()\n",
    "# Reset the index\n",
    "df = df.reset_index()"
   ]
  },
  {
   "cell_type": "markdown",
   "metadata": {},
   "source": [
    "## Wilcoxon-Signed Rank Tests"
   ]
  },
  {
   "cell_type": "code",
   "execution_count": 116,
   "metadata": {},
   "outputs": [],
   "source": [
    "def test(datax, datay, label):\n",
    "    test_times = stats.wilcoxon(datax, datay, alternative='two-sided', method='approx')\n",
    "    print (\"*** Test on \" + label + \" ***\")\n",
    "    print (test_times)\n",
    "    print (datax.mean())\n",
    "    print (datay.mean())\n",
    "    print (\"Effect size: \" + str(test_times.zstatistic / math.sqrt(len(datax) + len(datay))))"
   ]
  },
  {
   "cell_type": "markdown",
   "metadata": {},
   "source": [
    "### Fault detection"
   ]
  },
  {
   "cell_type": "code",
   "execution_count": 117,
   "metadata": {},
   "outputs": [
    {
     "name": "stdout",
     "output_type": "stream",
     "text": [
      "*** Test on ACTS vs SPECIFICITY ***\n",
      "WilcoxonResult(statistic=234.5, pvalue=0.7912948251279108)\n",
      "0.7405413860243902\n",
      "0.7401808887439025\n",
      "Effect size: -0.020664099073296183\n",
      "*** Test on ACTS vs BDD ***\n",
      "WilcoxonResult(statistic=200.0, pvalue=0.9455231238699077)\n",
      "0.7405413860243902\n",
      "0.7401875478170733\n",
      "Effect size: -0.005335658869944315\n",
      "*** Test on ACTS vs MUTTESTGENERATOR ***\n",
      "WilcoxonResult(statistic=185.5, pvalue=0.9329554902322205)\n",
      "0.7405413860243902\n",
      "0.7405433106219513\n",
      "Effect size: -0.0065692118514827195\n",
      "*** Test on ACTS vs INCLING ***\n",
      "WilcoxonResult(statistic=209.5, pvalue=0.636090540132071)\n",
      "0.7405413860243902\n",
      "0.7401207042682927\n",
      "Effect size: -0.03694851821157274\n",
      "*** Test on BDD vs SPECIFICITY ***\n",
      "WilcoxonResult(statistic=238.0, pvalue=0.447560194375875)\n",
      "0.7401875478170733\n",
      "0.7401808887439025\n",
      "Effect size: -0.059306113724028005\n",
      "*** Test on BDD vs MUTTESTGENERATOR ***\n",
      "WilcoxonResult(statistic=277.0, pvalue=0.9501239434499456)\n",
      "0.7401875478170733\n",
      "0.7405433106219513\n",
      "Effect size: -0.004884422868802315\n",
      "*** Test on BDD vs INCLING ***\n",
      "WilcoxonResult(statistic=203.0, pvalue=0.5439209948178236)\n",
      "0.7401875478170733\n",
      "0.7401207042682927\n",
      "Effect size: -0.0473904907496259\n",
      "*** Test on SPECIFICITY vs MUTTESTGENERATOR ***\n",
      "WilcoxonResult(statistic=213.0, pvalue=0.6882968182407507)\n",
      "0.7401808887439025\n",
      "0.7405433106219513\n",
      "Effect size: -0.031325917614159496\n",
      "*** Test on SPECIFICITY vs INCLING ***\n",
      "WilcoxonResult(statistic=252.5, pvalue=0.8297195199323226)\n",
      "0.7401808887439025\n",
      "0.7401207042682927\n",
      "Effect size: -0.016793466739279415\n",
      "*** Test on MUTTESTGENERATOR vs INCLING ***\n",
      "WilcoxonResult(statistic=215.0, pvalue=0.9568788798307356)\n",
      "0.7405433106219513\n",
      "0.7401207042682927\n",
      "Effect size: -0.004222208027286948\n"
     ]
    }
   ],
   "source": [
    "faultDetectionACTS = df.loc[df['Generator'] == 'ACTS', 'FaultDetection'].values\n",
    "faultDetectionSPEC = df.loc[df['Generator'] == 'SPECIFICITY_FMREDUCED', 'FaultDetection'].values\n",
    "faultDetectionBDD = df.loc[df['Generator'] == 'BDD_FMREDUCED', 'FaultDetection'].values\n",
    "faultDetectionMUTTESTGENERATOR = df.loc[df['Generator'] == 'MUTTESTGENERATOR', 'FaultDetection'].values\n",
    "faultDetectionINCLING = df.loc[df['Generator'] == 'INCLING', 'FaultDetection'].values\n",
    "# Test the difference between the generators\n",
    "test(faultDetectionACTS, faultDetectionSPEC, \"ACTS vs SPECIFICITY\")\n",
    "test(faultDetectionACTS, faultDetectionBDD, \"ACTS vs BDD\")\n",
    "test(faultDetectionACTS, faultDetectionMUTTESTGENERATOR, \"ACTS vs MUTTESTGENERATOR\")\n",
    "test(faultDetectionACTS, faultDetectionINCLING, \"ACTS vs INCLING\")\n",
    "test(faultDetectionBDD, faultDetectionSPEC, \"BDD vs SPECIFICITY\")\n",
    "test(faultDetectionBDD, faultDetectionMUTTESTGENERATOR, \"BDD vs MUTTESTGENERATOR\")\n",
    "test(faultDetectionBDD, faultDetectionINCLING, \"BDD vs INCLING\")\n",
    "test(faultDetectionSPEC, faultDetectionMUTTESTGENERATOR, \"SPECIFICITY vs MUTTESTGENERATOR\")\n",
    "test(faultDetectionSPEC, faultDetectionINCLING, \"SPECIFICITY vs INCLING\")\n",
    "test(faultDetectionMUTTESTGENERATOR, faultDetectionINCLING, \"MUTTESTGENERATOR vs INCLING\")\n"
   ]
  },
  {
   "cell_type": "markdown",
   "metadata": {},
   "source": [
    "### Specificity"
   ]
  },
  {
   "cell_type": "code",
   "execution_count": 118,
   "metadata": {},
   "outputs": [
    {
     "name": "stdout",
     "output_type": "stream",
     "text": [
      "*** Test on ACTS vs SPECIFICITY ***\n",
      "WilcoxonResult(statistic=0.0, pvalue=2.684275835835317e-05)\n",
      "0.4820944640975609\n",
      "0.531235755195122\n",
      "Effect size: -0.3278649752551889\n",
      "*** Test on ACTS vs BDD ***\n",
      "WilcoxonResult(statistic=55.0, pvalue=0.020246245694770734)\n",
      "0.4820944640975609\n",
      "0.5007862639207317\n",
      "Effect size: -0.18129844085935176\n",
      "*** Test on ACTS vs MUTTESTGENERATOR ***\n",
      "WilcoxonResult(statistic=254.5, pvalue=0.46178950128527485)\n",
      "0.4820944640975609\n",
      "0.491289201097561\n",
      "Effect size: -0.057464399474557275\n",
      "*** Test on ACTS vs INCLING ***\n",
      "WilcoxonResult(statistic=9.5, pvalue=0.004030631626533845)\n",
      "0.4820944640975609\n",
      "0.5038305215853658\n",
      "Effect size: -0.22455869348519364\n",
      "*** Test on BDD vs SPECIFICITY ***\n",
      "WilcoxonResult(statistic=8.5, pvalue=0.00012738945536620196)\n",
      "0.5007862639207317\n",
      "0.531235755195122\n",
      "Effect size: -0.2991861021081453\n",
      "*** Test on BDD vs MUTTESTGENERATOR ***\n",
      "WilcoxonResult(statistic=251.0, pvalue=0.4264007363422657)\n",
      "0.5007862639207317\n",
      "0.491289201097561\n",
      "Effect size: -0.062107636092075175\n",
      "*** Test on BDD vs INCLING ***\n",
      "WilcoxonResult(statistic=133.5, pvalue=0.6372660061897093)\n",
      "0.5007862639207317\n",
      "0.5038305215853658\n",
      "Effect size: -0.03681990176347006\n",
      "*** Test on SPECIFICITY vs MUTTESTGENERATOR ***\n",
      "WilcoxonResult(statistic=157.0, pvalue=0.016252202668635626)\n",
      "0.531235755195122\n",
      "0.491289201097561\n",
      "Effect size: -0.18765855636422715\n",
      "*** Test on SPECIFICITY vs INCLING ***\n",
      "WilcoxonResult(statistic=0.0, pvalue=3.9818721005007946e-05)\n",
      "0.531235755195122\n",
      "0.5038305215853658\n",
      "Effect size: -0.3208222149237115\n",
      "*** Test on MUTTESTGENERATOR vs INCLING ***\n",
      "WilcoxonResult(statistic=230.0, pvalue=0.24801835365778802)\n",
      "0.491289201097561\n",
      "0.5038305215853658\n",
      "Effect size: -0.09020409213352855\n"
     ]
    }
   ],
   "source": [
    "specificityACTS = df.loc[df['Generator'] == 'ACTS', 'Specificity'].values\n",
    "specificitySPEC = df.loc[df['Generator'] == 'SPECIFICITY_FMREDUCED', 'Specificity'].values\n",
    "specificityBDD = df.loc[df['Generator'] == 'BDD_FMREDUCED', 'Specificity'].values\n",
    "specificityMUTTESTGENERATOR = df.loc[df['Generator'] == 'MUTTESTGENERATOR', 'Specificity'].values\n",
    "specificityINCLING = df.loc[df['Generator'] == 'INCLING', 'Specificity'].values\n",
    "# Test the difference between the generators\n",
    "test(specificityACTS, specificitySPEC, \"ACTS vs SPECIFICITY\")\n",
    "test(specificityACTS, specificityBDD, \"ACTS vs BDD\")\n",
    "test(specificityACTS, specificityMUTTESTGENERATOR, \"ACTS vs MUTTESTGENERATOR\")\n",
    "test(specificityACTS, specificityINCLING, \"ACTS vs INCLING\")\n",
    "test(specificityBDD, specificitySPEC, \"BDD vs SPECIFICITY\")\n",
    "test(specificityBDD, specificityMUTTESTGENERATOR, \"BDD vs MUTTESTGENERATOR\")\n",
    "test(specificityBDD, specificityINCLING, \"BDD vs INCLING\")\n",
    "test(specificitySPEC, specificityMUTTESTGENERATOR, \"SPECIFICITY vs MUTTESTGENERATOR\")\n",
    "test(specificitySPEC, specificityINCLING, \"SPECIFICITY vs INCLING\")\n",
    "test(specificityMUTTESTGENERATOR, specificityINCLING, \"MUTTESTGENERATOR vs INCLING\")\n"
   ]
  },
  {
   "cell_type": "code",
   "execution_count": 119,
   "metadata": {},
   "outputs": [],
   "source": [
    "specificTestsACTS = df.loc[df['Generator'] == 'ACTS', 'NSpecificTests'].values\n",
    "specificTestsSPEC = df.loc[df['Generator'] == 'SPECIFICITY_FMREDUCED', 'NSpecificTests'].values\n",
    "specificTestsBDD = df.loc[df['Generator'] == 'BDD_FMREDUCED', 'NSpecificTests'].values\n",
    "specificTestsMUTTESTGENERATOR = df.loc[df['Generator'] == 'MUTTESTGENERATOR', 'NSpecificTests'].values\n",
    "specificTestsINCLING = df.loc[df['Generator'] == 'INCLING', 'NSpecificTests'].values"
   ]
  },
  {
   "cell_type": "markdown",
   "metadata": {},
   "source": [
    "### Time"
   ]
  },
  {
   "cell_type": "code",
   "execution_count": 120,
   "metadata": {},
   "outputs": [
    {
     "name": "stdout",
     "output_type": "stream",
     "text": [
      "*** Test on ACTS vs SPECIFICITY ***\n",
      "WilcoxonResult(statistic=0.0, pvalue=3.663275894851821e-15)\n",
      "107.27926829268293\n",
      "26.70731707317073\n",
      "Effect size: -0.6142269474763654\n",
      "*** Test on ACTS vs BDD ***\n",
      "WilcoxonResult(statistic=0.0, pvalue=3.663583406673553e-15)\n",
      "107.27926829268293\n",
      "42.48048780487805\n",
      "Effect size: -0.6142261270385183\n",
      "*** Test on ACTS vs MUTTESTGENERATOR ***\n",
      "WilcoxonResult(statistic=0.0, pvalue=3.663583406673553e-15)\n",
      "107.27926829268293\n",
      "24.903658536585368\n",
      "Effect size: -0.6142261270385183\n",
      "*** Test on ACTS vs INCLING ***\n",
      "WilcoxonResult(statistic=0.0, pvalue=3.662968407211321e-15)\n",
      "107.27926829268293\n",
      "8.16219512195122\n",
      "Effect size: -0.6142277679175001\n",
      "*** Test on BDD vs SPECIFICITY ***\n",
      "WilcoxonResult(statistic=10.0, pvalue=5.293932466723316e-15)\n",
      "42.48048780487805\n",
      "26.70731707317073\n",
      "Effect size: -0.6106178486232451\n",
      "*** Test on BDD vs MUTTESTGENERATOR ***\n",
      "WilcoxonResult(statistic=0.0, pvalue=3.662046089359831e-15)\n",
      "42.48048780487805\n",
      "24.903658536585368\n",
      "Effect size: -0.6142302292606302\n",
      "*** Test on BDD vs INCLING ***\n",
      "WilcoxonResult(statistic=30.0, pvalue=1.6297756320132744e-14)\n",
      "42.48048780487805\n",
      "8.16219512195122\n",
      "Effect size: -0.599465605965604\n",
      "*** Test on SPECIFICITY vs MUTTESTGENERATOR ***\n",
      "WilcoxonResult(statistic=387.0, pvalue=2.0188041189986808e-09)\n",
      "26.70731707317073\n",
      "24.903658536585368\n",
      "Effect size: -0.46823132966401676\n",
      "*** Test on SPECIFICITY vs INCLING ***\n",
      "WilcoxonResult(statistic=63.0, pvalue=3.5982570647826566e-14)\n",
      "26.70731707317073\n",
      "8.16219512195122\n",
      "Effect size: -0.5914884366487744\n",
      "*** Test on MUTTESTGENERATOR vs INCLING ***\n",
      "WilcoxonResult(statistic=108.5, pvalue=2.7243459406445557e-13)\n",
      "24.903658536585368\n",
      "8.16219512195122\n",
      "Effect size: -0.570609233242613\n"
     ]
    }
   ],
   "source": [
    "timeACTS = df.loc[df['Generator'] == 'ACTS', 'Time'].values\n",
    "timeSPEC = df.loc[df['Generator'] == 'SPECIFICITY_FMREDUCED', 'Time'].values\n",
    "timeBDD = df.loc[df['Generator'] == 'BDD_FMREDUCED', 'Time'].values\n",
    "timeMUTTESTGENERATOR = df.loc[df['Generator'] == 'MUTTESTGENERATOR', 'Time'].values\n",
    "timeINCLING = df.loc[df['Generator'] == 'INCLING', 'Time'].values\n",
    "# Test the difference between the generators\n",
    "test(timeACTS, timeSPEC, \"ACTS vs SPECIFICITY\")\n",
    "test(timeACTS, timeBDD, \"ACTS vs BDD\")\n",
    "test(timeACTS, timeMUTTESTGENERATOR, \"ACTS vs MUTTESTGENERATOR\")\n",
    "test(timeACTS, timeINCLING, \"ACTS vs INCLING\")\n",
    "test(timeBDD, timeSPEC, \"BDD vs SPECIFICITY\")\n",
    "test(timeBDD, timeMUTTESTGENERATOR, \"BDD vs MUTTESTGENERATOR\")\n",
    "test(timeBDD, timeINCLING, \"BDD vs INCLING\")\n",
    "test(timeSPEC, timeMUTTESTGENERATOR, \"SPECIFICITY vs MUTTESTGENERATOR\")\n",
    "test(timeSPEC, timeINCLING, \"SPECIFICITY vs INCLING\")\n",
    "test(timeMUTTESTGENERATOR, timeINCLING, \"MUTTESTGENERATOR vs INCLING\")"
   ]
  },
  {
   "cell_type": "markdown",
   "metadata": {},
   "source": [
    "### Size"
   ]
  },
  {
   "cell_type": "code",
   "execution_count": 121,
   "metadata": {},
   "outputs": [
    {
     "name": "stdout",
     "output_type": "stream",
     "text": [
      "*** Test on ACTS vs SPECIFICITY ***\n",
      "WilcoxonResult(statistic=567.0, pvalue=0.367927520345806)\n",
      "8.475609756097562\n",
      "8.670731707317072\n",
      "Effect size: -0.07030647732873654\n",
      "*** Test on ACTS vs BDD ***\n",
      "WilcoxonResult(statistic=651.5, pvalue=0.9140732954862807)\n",
      "8.475609756097562\n",
      "8.576829268292682\n",
      "Effect size: -0.008425743929678159\n",
      "*** Test on ACTS vs MUTTESTGENERATOR ***\n",
      "WilcoxonResult(statistic=713.0, pvalue=0.0011662052575471718)\n",
      "8.475609756097562\n",
      "7.097560975609756\n",
      "Effect size: -0.25354960101138146\n",
      "*** Test on ACTS vs INCLING ***\n",
      "WilcoxonResult(statistic=177.0, pvalue=0.008714571081501227)\n",
      "8.475609756097562\n",
      "8.731707317073171\n",
      "Effect size: -0.20482602857002305\n",
      "*** Test on BDD vs SPECIFICITY ***\n",
      "WilcoxonResult(statistic=356.5, pvalue=0.1585017435420295)\n",
      "8.576829268292682\n",
      "8.670731707317072\n",
      "Effect size: -0.11011253621802918\n",
      "*** Test on BDD vs MUTTESTGENERATOR ***\n",
      "WilcoxonResult(statistic=758.0, pvalue=0.0028728450445477402)\n",
      "8.576829268292682\n",
      "7.097560975609756\n",
      "Effect size: -0.2327790137244308\n",
      "*** Test on BDD vs INCLING ***\n",
      "WilcoxonResult(statistic=608.5, pvalue=0.17560820153365264)\n",
      "8.576829268292682\n",
      "8.731707317073171\n",
      "Effect size: -0.10576101752711897\n",
      "*** Test on SPECIFICITY vs MUTTESTGENERATOR ***\n",
      "WilcoxonResult(statistic=754.5, pvalue=0.0026908541509097095)\n",
      "8.670731707317072\n",
      "7.097560975609756\n",
      "Effect size: -0.2343395382335675\n",
      "*** Test on SPECIFICITY vs INCLING ***\n",
      "WilcoxonResult(statistic=644.0, pvalue=0.39615534961783994)\n",
      "8.670731707317072\n",
      "8.731707317073171\n",
      "Effect size: -0.0662573108337061\n",
      "*** Test on MUTTESTGENERATOR vs INCLING ***\n",
      "WilcoxonResult(statistic=712.5, pvalue=0.00297183278455147)\n",
      "7.097560975609756\n",
      "8.731707317073171\n",
      "Effect size: -0.23196774081820615\n"
     ]
    }
   ],
   "source": [
    "sizeACTS = df.loc[df['Generator'] == 'ACTS', 'Size'].values\n",
    "sizeSPEC = df.loc[df['Generator'] == 'SPECIFICITY_FMREDUCED', 'Size'].values\n",
    "sizeBDD = df.loc[df['Generator'] == 'BDD_FMREDUCED', 'Size'].values\n",
    "sizeMUTTESTGENERATOR = df.loc[df['Generator'] == 'MUTTESTGENERATOR', 'Size'].values\n",
    "sizeINCLING = df.loc[df['Generator'] == 'INCLING', 'Size'].values\n",
    "# Test the difference between the generators\n",
    "test(sizeACTS, sizeSPEC, \"ACTS vs SPECIFICITY\")\n",
    "test(sizeACTS, sizeBDD, \"ACTS vs BDD\")\n",
    "test(sizeACTS, sizeMUTTESTGENERATOR, \"ACTS vs MUTTESTGENERATOR\")\n",
    "test(sizeACTS, sizeINCLING, \"ACTS vs INCLING\")\n",
    "test(sizeBDD, sizeSPEC, \"BDD vs SPECIFICITY\")\n",
    "test(sizeBDD, sizeMUTTESTGENERATOR, \"BDD vs MUTTESTGENERATOR\")\n",
    "test(sizeBDD, sizeINCLING, \"BDD vs INCLING\")\n",
    "test(sizeSPEC, sizeMUTTESTGENERATOR, \"SPECIFICITY vs MUTTESTGENERATOR\")\n",
    "test(sizeSPEC, sizeINCLING, \"SPECIFICITY vs INCLING\")\n",
    "test(sizeMUTTESTGENERATOR, sizeINCLING, \"MUTTESTGENERATOR vs INCLING\")"
   ]
  },
  {
   "cell_type": "markdown",
   "metadata": {},
   "source": [
    "### Tuples Covered"
   ]
  },
  {
   "cell_type": "code",
   "execution_count": 122,
   "metadata": {},
   "outputs": [
    {
     "name": "stdout",
     "output_type": "stream",
     "text": [
      "*** Test on ACTS vs MUTTESTGENERATOR ***\n",
      "WilcoxonResult(statistic=0.0, pvalue=3.5291038980355267e-15)\n",
      "1.0\n",
      "0.4612083706097561\n",
      "Effect size: -0.6145915469879835\n",
      "*** Test on BDD vs MUTTESTGENERATOR ***\n",
      "WilcoxonResult(statistic=0.0, pvalue=3.5291038980355267e-15)\n",
      "1.0\n",
      "0.4612083706097561\n",
      "Effect size: -0.6145915469879835\n",
      "*** Test on SPECIFICITY vs MUTTESTGENERATOR ***\n",
      "WilcoxonResult(statistic=0.0, pvalue=3.5291038980355267e-15)\n",
      "1.0\n",
      "0.4612083706097561\n",
      "Effect size: -0.6145915469879835\n",
      "*** Test on INCLING vs MUTTESTGENERATOR ***\n",
      "WilcoxonResult(statistic=0.0, pvalue=3.5291038980355267e-15)\n",
      "1.0\n",
      "0.4612083706097561\n",
      "Effect size: -0.6145915469879835\n"
     ]
    }
   ],
   "source": [
    "tpACTS = df.loc[df['Generator'] == 'ACTS', 'CombinatorialCoverage'].values\n",
    "tpSPEC = df.loc[df['Generator'] == 'SPECIFICITY_FMREDUCED', 'CombinatorialCoverage'].values\n",
    "tpBDD = df.loc[df['Generator'] == 'BDD_FMREDUCED', 'CombinatorialCoverage'].values\n",
    "tpMUTTESTGENERATOR = df.loc[df['Generator'] == 'MUTTESTGENERATOR', 'CombinatorialCoverage'].values\n",
    "tpINCLING = df.loc[df['Generator'] == 'INCLING', 'CombinatorialCoverage'].values\n",
    "# Test the difference between the two generators\n",
    "test(tpACTS, tpMUTTESTGENERATOR, \"ACTS vs MUTTESTGENERATOR\")\n",
    "test(tpBDD, tpMUTTESTGENERATOR, \"BDD vs MUTTESTGENERATOR\")\n",
    "test(tpSPEC, tpMUTTESTGENERATOR, \"SPECIFICITY vs MUTTESTGENERATOR\")\n",
    "test(tpINCLING, tpMUTTESTGENERATOR, \"INCLING vs MUTTESTGENERATOR\")"
   ]
  },
  {
   "cell_type": "markdown",
   "metadata": {},
   "source": [
    "## Box-Plots"
   ]
  },
  {
   "cell_type": "code",
   "execution_count": 123,
   "metadata": {},
   "outputs": [],
   "source": [
    "def box_plot(y1, y2, y3, y4, y5, ylabel, xscale = 'log', plot_correspondence = False, scale = 1, showfliers = True):\n",
    "    plt.figure(figsize=(4,2))\n",
    "    sns.boxplot(data=[y1/scale, y2/scale, y3/scale, y4/scale, y5/scale], orient='h', showfliers = showfliers, showmeans=True, meanprops={\"marker\":\"o\",\"markerfacecolor\":\"red\", \"markeredgecolor\":\"white\"})\n",
    "    plt.xscale(xscale)\n",
    "    plt.yticks(range(5), labels=['ACTS', 'INCLING', 'BDDGEN', 'SPECGEN', 'MUTESTGEN'])\n",
    "    plt.xlabel(ylabel)\n",
    "    plt.savefig(\"imgs/\" + ylabel + '.pdf', bbox_inches='tight')\n",
    "    plt.show()"
   ]
  },
  {
   "cell_type": "markdown",
   "metadata": {},
   "source": [
    "### Fault detection"
   ]
  },
  {
   "cell_type": "code",
   "execution_count": 124,
   "metadata": {},
   "outputs": [
    {
     "data": {
      "image/png": "[encoded data removed]",
      "text/plain": [
       "<Figure size 400x250 with 1 Axes>"
      ]
     },
     "metadata": {},
     "output_type": "display_data"
    }
   ],
   "source": [
    "box_plot(faultDetectionACTS, faultDetectionINCLING, faultDetectionBDD, faultDetectionSPEC, faultDetectionMUTTESTGENERATOR, 'Fault Detection', xscale = 'linear', scale = 1, showfliers = False)"
   ]
  },
  {
   "cell_type": "markdown",
   "metadata": {},
   "source": [
    "### Specificity"
   ]
  },
  {
   "cell_type": "code",
   "execution_count": 125,
   "metadata": {},
   "outputs": [
    {
     "data": {
      "image/png": "[encoded data removed]",
      "text/plain": [
       "<Figure size 400x250 with 1 Axes>"
      ]
     },
     "metadata": {},
     "output_type": "display_data"
    }
   ],
   "source": [
    "box_plot(specificityACTS, specificityINCLING, specificityBDD, specificitySPEC, specificityMUTTESTGENERATOR, 'Specificity', xscale = 'linear', scale = 1, showfliers = False)"
   ]
  },
  {
   "cell_type": "code",
   "execution_count": 126,
   "metadata": {},
   "outputs": [
    {
     "data": {
      "image/png": "[encoded data removed]",
      "text/plain": [
       "<Figure size 400x250 with 1 Axes>"
      ]
     },
     "metadata": {},
     "output_type": "display_data"
    }
   ],
   "source": [
    "box_plot(specificTestsACTS, specificTestsINCLING, specificTestsBDD, specificTestsSPEC, specificTestsMUTTESTGENERATOR, '# of Specific Tests', xscale = 'linear', scale = 1, showfliers = False)"
   ]
  },
  {
   "cell_type": "markdown",
   "metadata": {},
   "source": [
    "### Time"
   ]
  },
  {
   "cell_type": "code",
   "execution_count": 127,
   "metadata": {},
   "outputs": [
    {
     "data": {
      "image/png": "[encoded data removed]",
      "text/plain": [
       "<Figure size 400x250 with 1 Axes>"
      ]
     },
     "metadata": {},
     "output_type": "display_data"
    }
   ],
   "source": [
    "box_plot(timeACTS, timeINCLING, timeBDD, timeSPEC, faultDetectionMUTTESTGENERATOR, 'Time', xscale = 'linear', scale = 1, showfliers = False)"
   ]
  },
  {
   "cell_type": "markdown",
   "metadata": {},
   "source": [
    "### Size"
   ]
  },
  {
   "cell_type": "code",
   "execution_count": 128,
   "metadata": {},
   "outputs": [
    {
     "data": {
      "image/png": "[encoded data removed]",
      "text/plain": [
       "<Figure size 400x250 with 1 Axes>"
      ]
     },
     "metadata": {},
     "output_type": "display_data"
    }
   ],
   "source": [
    "box_plot(sizeACTS, sizeINCLING, sizeBDD, sizeSPEC, faultDetectionMUTTESTGENERATOR, 'Size', xscale = 'linear', scale = 1, showfliers = False)"
   ]
  },
  {
   "cell_type": "markdown",
   "metadata": {},
   "source": [
    "### Tuples Covered"
   ]
  },
  {
   "cell_type": "code",
   "execution_count": 129,
   "metadata": {},
   "outputs": [
    {
     "data": {
      "image/png": "[encoded data removed]",
      "text/plain": [
       "<Figure size 400x250 with 1 Axes>"
      ]
     },
     "metadata": {},
     "output_type": "display_data"
    }
   ],
   "source": [
    "box_plot(tpACTS, tpINCLING, tpBDD, tpSPEC, tpMUTTESTGENERATOR, 'Cov. Tuples', xscale = 'linear', scale = 1, showfliers = False)"
   ]
  }
 ],
 "metadata": {
  "kernelspec": {
   "display_name": "Python 3",
   "language": "python",
   "name": "python3"
  },
  "language_info": {
   "codemirror_mode": {
    "name": "ipython",
    "version": 3
   },
   "file_extension": ".py",
   "mimetype": "text/x-python",
   "name": "python",
   "nbconvert_exporter": "python",
   "pygments_lexer": "ipython3",
   "version": "3.11.3"
  },
  "orig_nbformat": 4
 },
 "nbformat": 4,
 "nbformat_minor": 2
}
