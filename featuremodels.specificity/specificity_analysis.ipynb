{
 "cells": [
  {
   "cell_type": "markdown",
   "metadata": {},
   "source": [
    "## Libraries"
   ]
  },
  {
   "cell_type": "code",
   "execution_count": 93,
   "metadata": {},
   "outputs": [],
   "source": [
    "import pandas as pd\n",
    "import scipy.stats as stats\n",
    "import math\n",
    "import matplotlib.pyplot as plt\n",
    "import seaborn as sns"
   ]
  },
  {
   "cell_type": "markdown",
   "metadata": {},
   "source": [
    "## Load the data"
   ]
  },
  {
   "cell_type": "code",
   "execution_count": 94,
   "metadata": {},
   "outputs": [],
   "source": [
    "# Read the file resulsSPECIFICITY.csv into a pandas dataframe\n",
    "df = pd.read_csv('resultsSPECIFICITY.csv', delimiter=';')\n",
    "\n",
    "# Group the dataframe by OldFM, NewFM, Generator, and for the other columns compute the average\n",
    "df = df.groupby(['OldFM', 'NewFM', 'Generator']).mean()\n",
    "# Reset the index\n",
    "df = df.reset_index()"
   ]
  },
  {
   "cell_type": "markdown",
   "metadata": {},
   "source": [
    "## Wilcoxon-Signed Rank Tests"
   ]
  },
  {
   "cell_type": "code",
   "execution_count": 95,
   "metadata": {},
   "outputs": [],
   "source": [
    "def test(datax, datay, label):\n",
    "    test_times = stats.wilcoxon(datax, datay, alternative='two-sided', method='approx')\n",
    "    print (\"*** Test on \" + label + \" ***\")\n",
    "    print (test_times)\n",
    "    print (datax.mean())\n",
    "    print (datay.mean())\n",
    "    print (\"Effect size: \" + str(test_times.zstatistic / math.sqrt(len(datax) + len(datay))))"
   ]
  },
  {
   "cell_type": "markdown",
   "metadata": {},
   "source": [
    "### Fault detection"
   ]
  },
  {
   "cell_type": "code",
   "execution_count": 96,
   "metadata": {},
   "outputs": [
    {
     "name": "stdout",
     "output_type": "stream",
     "text": [
      "*** Test on ACTS vs SPECIFICITY ***\n",
      "WilcoxonResult(statistic=23509.0, pvalue=0.7802359258891938)\n",
      "0.6693841537156863\n",
      "0.6712686765686274\n",
      "Effect size: -0.006177420560792815\n",
      "*** Test on ACTS vs BDD ***\n",
      "WilcoxonResult(statistic=20041.5, pvalue=0.22254009808098874)\n",
      "0.6693841537156863\n",
      "0.6693932935\n",
      "Effect size: -0.027006861163086288\n",
      "*** Test on BDD vs SPECIFICITY ***\n",
      "WilcoxonResult(statistic=19328.0, pvalue=0.07214296460201768)\n",
      "0.6693932935\n",
      "0.6712686765686274\n",
      "Effect size: -0.03981314632470019\n"
     ]
    }
   ],
   "source": [
    "faultDetectionACTS = df.loc[df['Generator'] == 'ACTS', 'FaultDetection'].values\n",
    "faultDetectionSPEC = df.loc[df['Generator'] == 'SPECIFICITY_FMREDUCED', 'FaultDetection'].values\n",
    "faultDetectionBDD = df.loc[df['Generator'] == 'BDD_FMREDUCED', 'FaultDetection'].values\n",
    "# Test the difference between the two generators\n",
    "test(faultDetectionACTS, faultDetectionSPEC, \"ACTS vs SPECIFICITY\")\n",
    "test(faultDetectionACTS, faultDetectionBDD, \"ACTS vs BDD\")\n",
    "test(faultDetectionBDD, faultDetectionSPEC, \"BDD vs SPECIFICITY\")"
   ]
  },
  {
   "cell_type": "markdown",
   "metadata": {},
   "source": [
    "### Specificity"
   ]
  },
  {
   "cell_type": "code",
   "execution_count": 97,
   "metadata": {},
   "outputs": [
    {
     "name": "stdout",
     "output_type": "stream",
     "text": [
      "*** Test on ACTS vs SPECIFICITY ***\n",
      "WilcoxonResult(statistic=0.0, pvalue=7.449676750475078e-40)\n",
      "0.5409975103529412\n",
      "0.580501288617647\n",
      "Effect size: -0.29252558730948014\n",
      "*** Test on ACTS vs BDD ***\n",
      "WilcoxonResult(statistic=2773.0, pvalue=1.9834912109349712e-13)\n",
      "0.5409975103529412\n",
      "0.5551426761568627\n",
      "Effect size: -0.1627296118266814\n",
      "*** Test on BDD vs SPECIFICITY ***\n",
      "WilcoxonResult(statistic=204.5, pvalue=1.0550620737499627e-30)\n",
      "0.5551426761568627\n",
      "0.580501288617647\n",
      "Effect size: -0.2550408304967334\n"
     ]
    }
   ],
   "source": [
    "specificityACTS = df.loc[df['Generator'] == 'ACTS', 'Specificity'].values\n",
    "specificitySPEC = df.loc[df['Generator'] == 'SPECIFICITY_FMREDUCED', 'Specificity'].values\n",
    "specificityBDD = df.loc[df['Generator'] == 'BDD_FMREDUCED', 'Specificity'].values\n",
    "# Test the difference between the two generators\n",
    "test(specificityACTS, specificitySPEC, \"ACTS vs SPECIFICITY\")\n",
    "test(specificityACTS, specificityBDD, \"ACTS vs BDD\")\n",
    "test(specificityBDD, specificitySPEC, \"BDD vs SPECIFICITY\")"
   ]
  },
  {
   "cell_type": "markdown",
   "metadata": {},
   "source": [
    "### Time"
   ]
  },
  {
   "cell_type": "code",
   "execution_count": 98,
   "metadata": {},
   "outputs": [
    {
     "name": "stdout",
     "output_type": "stream",
     "text": [
      "*** Test on ACTS vs SPECIFICITY ***\n",
      "WilcoxonResult(statistic=0.0, pvalue=1.7955947287290612e-168)\n",
      "95.79411764705883\n",
      "22.879411764705882\n",
      "Effect size: -0.6125338440082468\n",
      "*** Test on ACTS vs BDD ***\n",
      "WilcoxonResult(statistic=0.0, pvalue=1.7965982435029394e-168)\n",
      "95.79411764705883\n",
      "21.99313725490196\n",
      "Effect size: -0.6125333974599318\n",
      "*** Test on BDD vs SPECIFICITY ***\n",
      "WilcoxonResult(statistic=96090.5, pvalue=2.3588751905275718e-18)\n",
      "21.99313725490196\n",
      "22.879411764705882\n",
      "Effect size: -0.19347722806868214\n"
     ]
    }
   ],
   "source": [
    "timeACTS = df.loc[df['Generator'] == 'ACTS', 'Time'].values\n",
    "timeSPEC = df.loc[df['Generator'] == 'SPECIFICITY_FMREDUCED', 'Time'].values\n",
    "timeBDD = df.loc[df['Generator'] == 'BDD_FMREDUCED', 'Time'].values\n",
    "# Test the difference between the two generators\n",
    "test(timeACTS, timeSPEC, \"ACTS vs SPECIFICITY\")\n",
    "test(timeACTS, timeBDD, \"ACTS vs BDD\")\n",
    "test(timeBDD, timeSPEC, \"BDD vs SPECIFICITY\")"
   ]
  },
  {
   "cell_type": "markdown",
   "metadata": {},
   "source": [
    "### Size"
   ]
  },
  {
   "cell_type": "code",
   "execution_count": 99,
   "metadata": {},
   "outputs": [
    {
     "name": "stdout",
     "output_type": "stream",
     "text": [
      "*** Test on ACTS vs SPECIFICITY ***\n",
      "WilcoxonResult(statistic=34693.5, pvalue=6.540443646239299e-05)\n",
      "7.411764705882353\n",
      "7.55\n",
      "Effect size: -0.08839350117780613\n",
      "*** Test on ACTS vs BDD ***\n",
      "WilcoxonResult(statistic=25537.5, pvalue=8.60422257108084e-05)\n",
      "7.411764705882353\n",
      "7.509803921568627\n",
      "Effect size: -0.08694336846958964\n",
      "*** Test on BDD vs SPECIFICITY ***\n",
      "WilcoxonResult(statistic=13425.5, pvalue=0.09285979247921998)\n",
      "7.509803921568627\n",
      "7.55\n",
      "Effect size: -0.03720692747645396\n"
     ]
    }
   ],
   "source": [
    "sizeACTS = df.loc[df['Generator'] == 'ACTS', 'Size'].values\n",
    "sizeSPEC = df.loc[df['Generator'] == 'SPECIFICITY_FMREDUCED', 'Size'].values\n",
    "sizeBDD = df.loc[df['Generator'] == 'BDD_FMREDUCED', 'Size'].values\n",
    "# Test the difference between the two generators\n",
    "test(sizeACTS, sizeSPEC, \"ACTS vs SPECIFICITY\")\n",
    "test(sizeACTS, sizeBDD, \"ACTS vs BDD\")\n",
    "test(sizeBDD, sizeSPEC, \"BDD vs SPECIFICITY\")"
   ]
  },
  {
   "cell_type": "markdown",
   "metadata": {},
   "source": [
    "## Box-Plots"
   ]
  },
  {
   "cell_type": "code",
   "execution_count": 100,
   "metadata": {},
   "outputs": [],
   "source": [
    "def box_plot(y1, y2, y3, ylabel, xscale = 'log', plot_correspondence = False, scale = 1, showfliers = True):\n",
    "    plt.figure(figsize=(4,1.5))\n",
    "    sns.boxplot(data=[y1/scale, y2/scale, y3/scale], orient='h', showfliers = showfliers, showmeans=True, meanprops={\"marker\":\"o\",\"markerfacecolor\":\"red\", \"markeredgecolor\":\"white\"})\n",
    "    plt.xscale(xscale)\n",
    "    plt.yticks(range(3), labels=['ACTS', 'BDD', 'SPECGEN'])\n",
    "    plt.xlabel(ylabel)\n",
    "    plt.show()"
   ]
  },
  {
   "cell_type": "markdown",
   "metadata": {},
   "source": [
    "### Fault detection"
   ]
  },
  {
   "cell_type": "code",
   "execution_count": 101,
   "metadata": {},
   "outputs": [
    {
     "data": {
      "image/png": "[encoded data removed]",
      "text/plain": [
       "<Figure size 400x150 with 1 Axes>"
      ]
     },
     "metadata": {},
     "output_type": "display_data"
    }
   ],
   "source": [
    "box_plot(faultDetectionACTS, faultDetectionBDD, faultDetectionSPEC, 'Fault Detection', xscale = 'linear', scale = 1, showfliers = False)"
   ]
  },
  {
   "cell_type": "markdown",
   "metadata": {},
   "source": [
    "### Specificity"
   ]
  },
  {
   "cell_type": "code",
   "execution_count": 102,
   "metadata": {},
   "outputs": [
    {
     "data": {
      "image/png": "[encoded data removed]",
      "text/plain": [
       "<Figure size 400x150 with 1 Axes>"
      ]
     },
     "metadata": {},
     "output_type": "display_data"
    }
   ],
   "source": [
    "box_plot(specificityACTS, specificityBDD, specificitySPEC, 'Specificity', xscale = 'linear', scale = 1, showfliers = False)"
   ]
  },
  {
   "cell_type": "markdown",
   "metadata": {},
   "source": [
    "### Time"
   ]
  },
  {
   "cell_type": "code",
   "execution_count": 103,
   "metadata": {},
   "outputs": [
    {
     "data": {
      "image/png": "[encoded data removed]",
      "text/plain": [
       "<Figure size 400x150 with 1 Axes>"
      ]
     },
     "metadata": {},
     "output_type": "display_data"
    }
   ],
   "source": [
    "box_plot(timeACTS, timeBDD, timeSPEC, 'Time', xscale = 'linear', scale = 1, showfliers = False)"
   ]
  },
  {
   "cell_type": "markdown",
   "metadata": {},
   "source": [
    "### Size"
   ]
  },
  {
   "cell_type": "code",
   "execution_count": 104,
   "metadata": {},
   "outputs": [
    {
     "data": {
      "image/png": "[encoded data removed]",
      "text/plain": [
       "<Figure size 400x150 with 1 Axes>"
      ]
     },
     "metadata": {},
     "output_type": "display_data"
    }
   ],
   "source": [
    "box_plot(sizeACTS, sizeBDD, sizeSPEC, 'Size', xscale = 'linear', scale = 1, showfliers = False)"
   ]
  }
 ],
 "metadata": {
  "kernelspec": {
   "display_name": "Python 3",
   "language": "python",
   "name": "python3"
  },
  "language_info": {
   "codemirror_mode": {
    "name": "ipython",
    "version": 3
   },
   "file_extension": ".py",
   "mimetype": "text/x-python",
   "name": "python",
   "nbconvert_exporter": "python",
   "pygments_lexer": "ipython3",
   "version": "3.11.3"
  },
  "orig_nbformat": 4
 },
 "nbformat": 4,
 "nbformat_minor": 2
}
